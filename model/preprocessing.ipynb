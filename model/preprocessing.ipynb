{
 "cells": [
  {
   "cell_type": "markdown",
   "metadata": {},
   "source": [
    "## UCSD Books Dataset Download and Pre-processing"
   ]
  },
  {
   "cell_type": "markdown",
   "metadata": {},
   "source": [
    "### Downloading UCSD Books Dataset"
   ]
  },
  {
   "cell_type": "code",
   "execution_count": null,
   "metadata": {},
   "outputs": [],
   "source": [
    "!wget --load-cookies /tmp/cookies.txt \"https://docs.google.com/uc?export=download&confirm=$(wget --quiet --save-cookies /tmp/cookies.txt --keep-session-cookies --no-check-certificate 'https://docs.google.com/uc?export=download&id=1LXpK1UfqtP89H1tYy0pBGHjYk8IhigUK' -O- | sed -rn 's/.*confirm=([0-9A-Za-z_]+).*/\\1\\n/p')&id=1LXpK1UfqtP89H1tYy0pBGHjYk8IhigUK\" -O goodreads_books.json.gz && rm -rf /tmp/cookies.txt"
   ]
  },
  {
   "cell_type": "markdown",
   "metadata": {},
   "source": [
    "### Downloading UCSD Books-Genres Mapping Dataset"
   ]
  },
  {
   "cell_type": "code",
   "execution_count": null,
   "metadata": {},
   "outputs": [],
   "source": [
    "!wget --load-cookies /tmp/cookies.txt \"https://docs.google.com/uc?export=download&confirm=$(wget --quiet --save-cookies /tmp/cookies.txt --keep-session-cookies --no-check-certificate 'https://docs.google.com/uc?export=download&id=1ah0_KpUterVi-AHxJ03iKD6O0NfbK0md' -O- | sed -rn 's/.*confirm=([0-9A-Za-z_]+).*/\\1\\n/p')&id=1ah0_KpUterVi-AHxJ03iKD6O0NfbK0md\" -O gooreads_book_genres_initial.json.gz && rm -rf /tmp/cookies.txt"
   ]
  },
  {
   "cell_type": "markdown",
   "metadata": {},
   "source": [
    "### Pre-processing"
   ]
  },
  {
   "cell_type": "code",
   "execution_count": 0,
   "metadata": {
    "colab": {},
    "colab_type": "code",
    "id": "MR68L5GS5_Ok"
   },
   "outputs": [],
   "source": [
    "!gunzip goodreads_books.json.gz"
   ]
  },
  {
   "cell_type": "code",
   "execution_count": 0,
   "metadata": {
    "colab": {},
    "colab_type": "code",
    "id": "d31IvK0O6Kxt"
   },
   "outputs": [],
   "source": [
    "import pandas as pd"
   ]
  },
  {
   "cell_type": "markdown",
   "metadata": {},
   "source": [
    "### Taking a chunk of 250,000 books"
   ]
  },
  {
   "cell_type": "code",
   "execution_count": 0,
   "metadata": {
    "colab": {},
    "colab_type": "code",
    "id": "EdkCvlT5669H"
   },
   "outputs": [],
   "source": [
    "df=pd.read_json(\"goodreads_books.json\",lines=True,chunksize=250000)"
   ]
  },
  {
   "cell_type": "code",
   "execution_count": 85,
   "metadata": {
    "colab": {
     "base_uri": "https://localhost:8080/",
     "height": 34
    },
    "colab_type": "code",
    "id": "TMaDznJXDMHT",
    "outputId": "8be379a4-ee41-4a22-a9a3-0f0802ed7566"
   },
   "outputs": [
    {
     "data": {
      "text/plain": [
       "<pandas.io.json._json.JsonReader at 0x7fed200015c0>"
      ]
     },
     "execution_count": 85,
     "metadata": {
      "tags": []
     },
     "output_type": "execute_result"
    }
   ],
   "source": [
    "df"
   ]
  },
  {
   "cell_type": "code",
   "execution_count": 4,
   "metadata": {
    "colab": {
     "base_uri": "https://localhost:8080/",
     "height": 221
    },
    "colab_type": "code",
    "id": "sUDUnuaDDV2b",
    "outputId": "0751135f-40d7-4d49-a4f6-736ef23f9798"
   },
   "outputs": [
    {
     "name": "stdout",
     "output_type": "stream",
     "text": [
      "0         0312853122\n",
      "1         0743509986\n",
      "2                   \n",
      "3         0743294297\n",
      "4         0850308712\n",
      "             ...    \n",
      "249995    1591886333\n",
      "249996    0752893769\n",
      "249997    1595583351\n",
      "249998              \n",
      "249999    0688156010\n",
      "Name: isbn, Length: 250000, dtype: object\n"
     ]
    }
   ],
   "source": [
    "cnt=0\n",
    "ll=[]\n",
    "for chunk in df:\n",
    "  print(chunk[\"isbn\"])\n",
    "  cnt+=1\n",
    "  if cnt==1:\n",
    "    break"
   ]
  },
  {
   "cell_type": "code",
   "execution_count": 0,
   "metadata": {
    "colab": {},
    "colab_type": "code",
    "id": "2bCCubovD5e1"
   },
   "outputs": [],
   "source": [
    "ll2=[]\n",
    "ll2.append(chunk)"
   ]
  },
  {
   "cell_type": "code",
   "execution_count": 0,
   "metadata": {
    "colab": {},
    "colab_type": "code",
    "id": "ggc2CkqkD_wn"
   },
   "outputs": [],
   "source": [
    "ll2[0].to_csv(\"books.csv\")"
   ]
  },
  {
   "cell_type": "code",
   "execution_count": 0,
   "metadata": {
    "colab": {},
    "colab_type": "code",
    "id": "xjPOtYh5sR7x"
   },
   "outputs": [],
   "source": [
    "df3=ll2[0]"
   ]
  },
  {
   "cell_type": "code",
   "execution_count": 38,
   "metadata": {
    "colab": {
     "base_uri": "https://localhost:8080/",
     "height": 530
    },
    "colab_type": "code",
    "id": "YGSHDAm5sSGP",
    "outputId": "02c5d235-dc6e-4b0b-aaf6-13be234bd4f6"
   },
   "outputs": [
    {
     "data": {
      "text/html": [
       "<div>\n",
       "<style scoped>\n",
       "    .dataframe tbody tr th:only-of-type {\n",
       "        vertical-align: middle;\n",
       "    }\n",
       "\n",
       "    .dataframe tbody tr th {\n",
       "        vertical-align: top;\n",
       "    }\n",
       "\n",
       "    .dataframe thead th {\n",
       "        text-align: right;\n",
       "    }\n",
       "</style>\n",
       "<table border=\"1\" class=\"dataframe\">\n",
       "  <thead>\n",
       "    <tr style=\"text-align: right;\">\n",
       "      <th></th>\n",
       "      <th>isbn</th>\n",
       "      <th>text_reviews_count</th>\n",
       "      <th>series</th>\n",
       "      <th>country_code</th>\n",
       "      <th>language_code</th>\n",
       "      <th>popular_shelves</th>\n",
       "      <th>asin</th>\n",
       "      <th>is_ebook</th>\n",
       "      <th>average_rating</th>\n",
       "      <th>kindle_asin</th>\n",
       "      <th>similar_books</th>\n",
       "      <th>description</th>\n",
       "      <th>format</th>\n",
       "      <th>link</th>\n",
       "      <th>authors</th>\n",
       "      <th>publisher</th>\n",
       "      <th>num_pages</th>\n",
       "      <th>publication_day</th>\n",
       "      <th>isbn13</th>\n",
       "      <th>publication_month</th>\n",
       "      <th>edition_information</th>\n",
       "      <th>publication_year</th>\n",
       "      <th>url</th>\n",
       "      <th>image_url</th>\n",
       "      <th>book_id</th>\n",
       "      <th>ratings_count</th>\n",
       "      <th>work_id</th>\n",
       "      <th>title</th>\n",
       "      <th>title_without_series</th>\n",
       "    </tr>\n",
       "  </thead>\n",
       "  <tbody>\n",
       "    <tr>\n",
       "      <th>0</th>\n",
       "      <td>0312853122</td>\n",
       "      <td>1</td>\n",
       "      <td>[]</td>\n",
       "      <td>US</td>\n",
       "      <td></td>\n",
       "      <td>[{'count': '3', 'name': 'to-read'}, {'count': ...</td>\n",
       "      <td></td>\n",
       "      <td>false</td>\n",
       "      <td>4.00</td>\n",
       "      <td></td>\n",
       "      <td>[]</td>\n",
       "      <td></td>\n",
       "      <td>Paperback</td>\n",
       "      <td>https://www.goodreads.com/book/show/5333265-w-...</td>\n",
       "      <td>[{'author_id': '604031', 'role': ''}]</td>\n",
       "      <td>St. Martin's Press</td>\n",
       "      <td>256</td>\n",
       "      <td>1</td>\n",
       "      <td>9780312853129</td>\n",
       "      <td>9</td>\n",
       "      <td></td>\n",
       "      <td>1984</td>\n",
       "      <td>https://www.goodreads.com/book/show/5333265-w-...</td>\n",
       "      <td>https://images.gr-assets.com/books/1310220028m...</td>\n",
       "      <td>5333265</td>\n",
       "      <td>3</td>\n",
       "      <td>5400751</td>\n",
       "      <td>W.C. Fields: A Life on Film</td>\n",
       "      <td>W.C. Fields: A Life on Film</td>\n",
       "    </tr>\n",
       "    <tr>\n",
       "      <th>1</th>\n",
       "      <td>0743509986</td>\n",
       "      <td>6</td>\n",
       "      <td>[]</td>\n",
       "      <td>US</td>\n",
       "      <td></td>\n",
       "      <td>[{'count': '2634', 'name': 'to-read'}, {'count...</td>\n",
       "      <td></td>\n",
       "      <td>false</td>\n",
       "      <td>3.23</td>\n",
       "      <td>B000FC0PBC</td>\n",
       "      <td>[8709549, 17074050, 28937, 158816, 228563, 112...</td>\n",
       "      <td>Anita Diamant's international bestseller \"The ...</td>\n",
       "      <td>Audio CD</td>\n",
       "      <td>https://www.goodreads.com/book/show/1333909.Go...</td>\n",
       "      <td>[{'author_id': '626222', 'role': ''}]</td>\n",
       "      <td>Simon &amp; Schuster Audio</td>\n",
       "      <td></td>\n",
       "      <td>1</td>\n",
       "      <td>9780743509985</td>\n",
       "      <td>10</td>\n",
       "      <td>Abridged</td>\n",
       "      <td>2001</td>\n",
       "      <td>https://www.goodreads.com/book/show/1333909.Go...</td>\n",
       "      <td>https://s.gr-assets.com/assets/nophoto/book/11...</td>\n",
       "      <td>1333909</td>\n",
       "      <td>10</td>\n",
       "      <td>1323437</td>\n",
       "      <td>Good Harbor</td>\n",
       "      <td>Good Harbor</td>\n",
       "    </tr>\n",
       "    <tr>\n",
       "      <th>2</th>\n",
       "      <td></td>\n",
       "      <td>7</td>\n",
       "      <td>[189911]</td>\n",
       "      <td>US</td>\n",
       "      <td>eng</td>\n",
       "      <td>[{'count': '58', 'name': 'to-read'}, {'count':...</td>\n",
       "      <td>B00071IKUY</td>\n",
       "      <td>false</td>\n",
       "      <td>4.03</td>\n",
       "      <td></td>\n",
       "      <td>[19997, 828466, 1569323, 425389, 1176674, 2627...</td>\n",
       "      <td>Omnibus book club edition containing the Ladie...</td>\n",
       "      <td>Hardcover</td>\n",
       "      <td>https://www.goodreads.com/book/show/7327624-th...</td>\n",
       "      <td>[{'author_id': '10333', 'role': ''}]</td>\n",
       "      <td>Nelson Doubleday, Inc.</td>\n",
       "      <td>600</td>\n",
       "      <td></td>\n",
       "      <td></td>\n",
       "      <td></td>\n",
       "      <td>Book Club Edition</td>\n",
       "      <td>1987</td>\n",
       "      <td>https://www.goodreads.com/book/show/7327624-th...</td>\n",
       "      <td>https://images.gr-assets.com/books/1304100136m...</td>\n",
       "      <td>7327624</td>\n",
       "      <td>140</td>\n",
       "      <td>8948723</td>\n",
       "      <td>The Unschooled Wizard (Sun Wolf and Starhawk, ...</td>\n",
       "      <td>The Unschooled Wizard (Sun Wolf and Starhawk, ...</td>\n",
       "    </tr>\n",
       "    <tr>\n",
       "      <th>3</th>\n",
       "      <td>0743294297</td>\n",
       "      <td>3282</td>\n",
       "      <td>[]</td>\n",
       "      <td>US</td>\n",
       "      <td>eng</td>\n",
       "      <td>[{'count': '7615', 'name': 'to-read'}, {'count...</td>\n",
       "      <td></td>\n",
       "      <td>false</td>\n",
       "      <td>3.49</td>\n",
       "      <td>B002ENBLOK</td>\n",
       "      <td>[6604176, 6054190, 2285777, 82641, 7569453, 70...</td>\n",
       "      <td>Addie Downs and Valerie Adler were eight when ...</td>\n",
       "      <td>Hardcover</td>\n",
       "      <td>https://www.goodreads.com/book/show/6066819-be...</td>\n",
       "      <td>[{'author_id': '9212', 'role': ''}]</td>\n",
       "      <td>Atria Books</td>\n",
       "      <td>368</td>\n",
       "      <td>14</td>\n",
       "      <td>9780743294294</td>\n",
       "      <td>7</td>\n",
       "      <td></td>\n",
       "      <td>2009</td>\n",
       "      <td>https://www.goodreads.com/book/show/6066819-be...</td>\n",
       "      <td>https://s.gr-assets.com/assets/nophoto/book/11...</td>\n",
       "      <td>6066819</td>\n",
       "      <td>51184</td>\n",
       "      <td>6243154</td>\n",
       "      <td>Best Friends Forever</td>\n",
       "      <td>Best Friends Forever</td>\n",
       "    </tr>\n",
       "    <tr>\n",
       "      <th>4</th>\n",
       "      <td>0850308712</td>\n",
       "      <td>5</td>\n",
       "      <td>[]</td>\n",
       "      <td>US</td>\n",
       "      <td></td>\n",
       "      <td>[{'count': '32', 'name': 'to-read'}, {'count':...</td>\n",
       "      <td></td>\n",
       "      <td>false</td>\n",
       "      <td>3.40</td>\n",
       "      <td></td>\n",
       "      <td>[]</td>\n",
       "      <td></td>\n",
       "      <td></td>\n",
       "      <td>https://www.goodreads.com/book/show/287140.Run...</td>\n",
       "      <td>[{'author_id': '149918', 'role': ''}]</td>\n",
       "      <td></td>\n",
       "      <td></td>\n",
       "      <td></td>\n",
       "      <td>9780850308716</td>\n",
       "      <td></td>\n",
       "      <td></td>\n",
       "      <td></td>\n",
       "      <td>https://www.goodreads.com/book/show/287140.Run...</td>\n",
       "      <td>https://images.gr-assets.com/books/1413219371m...</td>\n",
       "      <td>287140</td>\n",
       "      <td>15</td>\n",
       "      <td>278577</td>\n",
       "      <td>Runic Astrology: Starcraft and Timekeeping in ...</td>\n",
       "      <td>Runic Astrology: Starcraft and Timekeeping in ...</td>\n",
       "    </tr>\n",
       "  </tbody>\n",
       "</table>\n",
       "</div>"
      ],
      "text/plain": [
       "         isbn  ...                               title_without_series\n",
       "0  0312853122  ...                        W.C. Fields: A Life on Film\n",
       "1  0743509986  ...                                        Good Harbor\n",
       "2              ...  The Unschooled Wizard (Sun Wolf and Starhawk, ...\n",
       "3  0743294297  ...                               Best Friends Forever\n",
       "4  0850308712  ...  Runic Astrology: Starcraft and Timekeeping in ...\n",
       "\n",
       "[5 rows x 29 columns]"
      ]
     },
     "execution_count": 38,
     "metadata": {
      "tags": []
     },
     "output_type": "execute_result"
    }
   ],
   "source": [
    "df3.head()"
   ]
  },
  {
   "cell_type": "markdown",
   "metadata": {
    "colab": {},
    "colab_type": "code",
    "id": "8BrE89Rv6bU9"
   },
   "source": [
    "### Removing books with no description"
   ]
  },
  {
   "cell_type": "code",
   "execution_count": 0,
   "metadata": {
    "colab": {},
    "colab_type": "code",
    "id": "ve2sFtGLspBC"
   },
   "outputs": [],
   "source": [
    "df3=df3[df3.description!=\"\"]"
   ]
  },
  {
   "cell_type": "code",
   "execution_count": 62,
   "metadata": {
    "colab": {
     "base_uri": "https://localhost:8080/",
     "height": 34
    },
    "colab_type": "code",
    "id": "j3xjIYwhspRa",
    "outputId": "076c9eb5-40e1-4ced-9e8d-bb7bf321fef4"
   },
   "outputs": [
    {
     "data": {
      "text/plain": [
       "206606"
      ]
     },
     "execution_count": 62,
     "metadata": {
      "tags": []
     },
     "output_type": "execute_result"
    }
   ],
   "source": [
    "len(df3)"
   ]
  },
  {
   "cell_type": "code",
   "execution_count": 63,
   "metadata": {
    "colab": {
     "base_uri": "https://localhost:8080/",
     "height": 139
    },
    "colab_type": "code",
    "id": "Vo1FtOCmtGxw",
    "outputId": "dfb95b82-34ab-4eb1-902a-b0d709c22ef3"
   },
   "outputs": [
    {
     "name": "stderr",
     "output_type": "stream",
     "text": [
      "/usr/local/lib/python3.6/dist-packages/ipykernel_launcher.py:8: SettingWithCopyWarning: \n",
      "A value is trying to be set on a copy of a slice from a DataFrame.\n",
      "Try using .loc[row_indexer,col_indexer] = value instead\n",
      "\n",
      "See the caveats in the documentation: https://pandas.pydata.org/pandas-docs/stable/user_guide/indexing.html#returning-a-view-versus-a-copy\n",
      "  \n"
     ]
    }
   ],
   "source": [
    "cnt=list(df3[\"ratings_count\"])\n",
    "c=[]\n",
    "for i in cnt:\n",
    "  try:\n",
    "    c.append(int(i))\n",
    "  except:\n",
    "    print(cnt.index(i))\n",
    "df3[\"ratings_count\"]=c"
   ]
  },
  {
   "cell_type": "code",
   "execution_count": 64,
   "metadata": {
    "colab": {
     "base_uri": "https://localhost:8080/",
     "height": 34
    },
    "colab_type": "code",
    "id": "DSV1CJ4N5lhe",
    "outputId": "1f51b0ab-c644-4596-f95e-0bd4fe709e03"
   },
   "outputs": [
    {
     "data": {
      "text/plain": [
       "206606"
      ]
     },
     "execution_count": 64,
     "metadata": {
      "tags": []
     },
     "output_type": "execute_result"
    }
   ],
   "source": [
    "len(df3)"
   ]
  },
  {
   "cell_type": "markdown",
   "metadata": {},
   "source": [
    "### Keeping only English books"
   ]
  },
  {
   "cell_type": "code",
   "execution_count": 0,
   "metadata": {
    "colab": {},
    "colab_type": "code",
    "id": "8mWoF8vPAsJW"
   },
   "outputs": [],
   "source": [
    "df3=df3[df3.language_code==\"eng\"]"
   ]
  },
  {
   "cell_type": "code",
   "execution_count": 67,
   "metadata": {
    "colab": {
     "base_uri": "https://localhost:8080/",
     "height": 34
    },
    "colab_type": "code",
    "id": "-zPhpbI2AsW2",
    "outputId": "b7fa6e00-3ba0-416c-a2ce-35896e508dcc"
   },
   "outputs": [
    {
     "data": {
      "text/plain": [
       "69033"
      ]
     },
     "execution_count": 67,
     "metadata": {
      "tags": []
     },
     "output_type": "execute_result"
    }
   ],
   "source": [
    "len(df3)"
   ]
  },
  {
   "cell_type": "markdown",
   "metadata": {},
   "source": [
    "### Keeping the books with number of ratings >=50"
   ]
  },
  {
   "cell_type": "code",
   "execution_count": 0,
   "metadata": {
    "colab": {},
    "colab_type": "code",
    "id": "LUeISuXetXUX"
   },
   "outputs": [],
   "source": [
    "df3=df3[df3.ratings_count>=50]"
   ]
  },
  {
   "cell_type": "code",
   "execution_count": 69,
   "metadata": {
    "colab": {
     "base_uri": "https://localhost:8080/",
     "height": 34
    },
    "colab_type": "code",
    "id": "Rl0iVsFmtXRt",
    "outputId": "34c9e9e7-5052-43aa-e464-952c3fbf7f5e"
   },
   "outputs": [
    {
     "data": {
      "text/plain": [
       "29257"
      ]
     },
     "execution_count": 69,
     "metadata": {
      "tags": []
     },
     "output_type": "execute_result"
    }
   ],
   "source": [
    "len(df3)"
   ]
  },
  {
   "cell_type": "code",
   "execution_count": 70,
   "metadata": {
    "colab": {
     "base_uri": "https://localhost:8080/",
     "height": 547
    },
    "colab_type": "code",
    "id": "4u1PFWvospMo",
    "outputId": "2cb8fbdd-4121-4747-f838-527aed258b05"
   },
   "outputs": [
    {
     "data": {
      "text/html": [
       "<div>\n",
       "<style scoped>\n",
       "    .dataframe tbody tr th:only-of-type {\n",
       "        vertical-align: middle;\n",
       "    }\n",
       "\n",
       "    .dataframe tbody tr th {\n",
       "        vertical-align: top;\n",
       "    }\n",
       "\n",
       "    .dataframe thead th {\n",
       "        text-align: right;\n",
       "    }\n",
       "</style>\n",
       "<table border=\"1\" class=\"dataframe\">\n",
       "  <thead>\n",
       "    <tr style=\"text-align: right;\">\n",
       "      <th></th>\n",
       "      <th>isbn</th>\n",
       "      <th>text_reviews_count</th>\n",
       "      <th>series</th>\n",
       "      <th>country_code</th>\n",
       "      <th>language_code</th>\n",
       "      <th>popular_shelves</th>\n",
       "      <th>asin</th>\n",
       "      <th>is_ebook</th>\n",
       "      <th>average_rating</th>\n",
       "      <th>kindle_asin</th>\n",
       "      <th>similar_books</th>\n",
       "      <th>description</th>\n",
       "      <th>format</th>\n",
       "      <th>link</th>\n",
       "      <th>authors</th>\n",
       "      <th>publisher</th>\n",
       "      <th>num_pages</th>\n",
       "      <th>publication_day</th>\n",
       "      <th>isbn13</th>\n",
       "      <th>publication_month</th>\n",
       "      <th>edition_information</th>\n",
       "      <th>publication_year</th>\n",
       "      <th>url</th>\n",
       "      <th>image_url</th>\n",
       "      <th>book_id</th>\n",
       "      <th>ratings_count</th>\n",
       "      <th>work_id</th>\n",
       "      <th>title</th>\n",
       "      <th>title_without_series</th>\n",
       "    </tr>\n",
       "  </thead>\n",
       "  <tbody>\n",
       "    <tr>\n",
       "      <th>2</th>\n",
       "      <td></td>\n",
       "      <td>7</td>\n",
       "      <td>[189911]</td>\n",
       "      <td>US</td>\n",
       "      <td>eng</td>\n",
       "      <td>[{'count': '58', 'name': 'to-read'}, {'count':...</td>\n",
       "      <td>B00071IKUY</td>\n",
       "      <td>false</td>\n",
       "      <td>4.03</td>\n",
       "      <td></td>\n",
       "      <td>[19997, 828466, 1569323, 425389, 1176674, 2627...</td>\n",
       "      <td>Omnibus book club edition containing the Ladie...</td>\n",
       "      <td>Hardcover</td>\n",
       "      <td>https://www.goodreads.com/book/show/7327624-th...</td>\n",
       "      <td>[{'author_id': '10333', 'role': ''}]</td>\n",
       "      <td>Nelson Doubleday, Inc.</td>\n",
       "      <td>600</td>\n",
       "      <td></td>\n",
       "      <td></td>\n",
       "      <td></td>\n",
       "      <td>Book Club Edition</td>\n",
       "      <td>1987</td>\n",
       "      <td>https://www.goodreads.com/book/show/7327624-th...</td>\n",
       "      <td>https://images.gr-assets.com/books/1304100136m...</td>\n",
       "      <td>7327624</td>\n",
       "      <td>140</td>\n",
       "      <td>8948723</td>\n",
       "      <td>The Unschooled Wizard (Sun Wolf and Starhawk, ...</td>\n",
       "      <td>The Unschooled Wizard (Sun Wolf and Starhawk, ...</td>\n",
       "    </tr>\n",
       "    <tr>\n",
       "      <th>3</th>\n",
       "      <td>0743294297</td>\n",
       "      <td>3282</td>\n",
       "      <td>[]</td>\n",
       "      <td>US</td>\n",
       "      <td>eng</td>\n",
       "      <td>[{'count': '7615', 'name': 'to-read'}, {'count...</td>\n",
       "      <td></td>\n",
       "      <td>false</td>\n",
       "      <td>3.49</td>\n",
       "      <td>B002ENBLOK</td>\n",
       "      <td>[6604176, 6054190, 2285777, 82641, 7569453, 70...</td>\n",
       "      <td>Addie Downs and Valerie Adler were eight when ...</td>\n",
       "      <td>Hardcover</td>\n",
       "      <td>https://www.goodreads.com/book/show/6066819-be...</td>\n",
       "      <td>[{'author_id': '9212', 'role': ''}]</td>\n",
       "      <td>Atria Books</td>\n",
       "      <td>368</td>\n",
       "      <td>14</td>\n",
       "      <td>9780743294294</td>\n",
       "      <td>7</td>\n",
       "      <td></td>\n",
       "      <td>2009</td>\n",
       "      <td>https://www.goodreads.com/book/show/6066819-be...</td>\n",
       "      <td>https://s.gr-assets.com/assets/nophoto/book/11...</td>\n",
       "      <td>6066819</td>\n",
       "      <td>51184</td>\n",
       "      <td>6243154</td>\n",
       "      <td>Best Friends Forever</td>\n",
       "      <td>Best Friends Forever</td>\n",
       "    </tr>\n",
       "    <tr>\n",
       "      <th>16</th>\n",
       "      <td>0842379428</td>\n",
       "      <td>566</td>\n",
       "      <td>[]</td>\n",
       "      <td>US</td>\n",
       "      <td>eng</td>\n",
       "      <td>[{'count': '6393', 'name': 'to-read'}, {'count...</td>\n",
       "      <td></td>\n",
       "      <td>false</td>\n",
       "      <td>4.26</td>\n",
       "      <td>B000FCKCJC</td>\n",
       "      <td>[45366, 246849, 11096385, 19102466, 761197, 11...</td>\n",
       "      <td>What is Heaven really going to be like? What w...</td>\n",
       "      <td></td>\n",
       "      <td>https://www.goodreads.com/book/show/89376.Heaven</td>\n",
       "      <td>[{'author_id': '4862', 'role': ''}]</td>\n",
       "      <td></td>\n",
       "      <td>533</td>\n",
       "      <td></td>\n",
       "      <td>9780842379427</td>\n",
       "      <td></td>\n",
       "      <td></td>\n",
       "      <td></td>\n",
       "      <td>https://www.goodreads.com/book/show/89376.Heaven</td>\n",
       "      <td>https://images.gr-assets.com/books/1406508230m...</td>\n",
       "      <td>89376</td>\n",
       "      <td>7345</td>\n",
       "      <td>86257</td>\n",
       "      <td>Heaven</td>\n",
       "      <td>Heaven</td>\n",
       "    </tr>\n",
       "    <tr>\n",
       "      <th>18</th>\n",
       "      <td>0590417010</td>\n",
       "      <td>193</td>\n",
       "      <td>[]</td>\n",
       "      <td>US</td>\n",
       "      <td>eng</td>\n",
       "      <td>[{'count': '450', 'name': 'to-read'}, {'count'...</td>\n",
       "      <td></td>\n",
       "      <td>false</td>\n",
       "      <td>4.43</td>\n",
       "      <td>B017RORXNI</td>\n",
       "      <td>[834493, 452189, 140185, 1897316, 2189812, 424...</td>\n",
       "      <td>In Newbery Medalist Cynthia Rylant's classic b...</td>\n",
       "      <td>Hardcover</td>\n",
       "      <td>https://www.goodreads.com/book/show/89378.Dog_...</td>\n",
       "      <td>[{'author_id': '5411', 'role': ''}]</td>\n",
       "      <td>Blue Sky Press</td>\n",
       "      <td>40</td>\n",
       "      <td>1</td>\n",
       "      <td>9780590417013</td>\n",
       "      <td>9</td>\n",
       "      <td></td>\n",
       "      <td>1995</td>\n",
       "      <td>https://www.goodreads.com/book/show/89378.Dog_...</td>\n",
       "      <td>https://images.gr-assets.com/books/1360057676m...</td>\n",
       "      <td>89378</td>\n",
       "      <td>1331</td>\n",
       "      <td>86259</td>\n",
       "      <td>Dog Heaven</td>\n",
       "      <td>Dog Heaven</td>\n",
       "    </tr>\n",
       "    <tr>\n",
       "      <th>31</th>\n",
       "      <td></td>\n",
       "      <td>23</td>\n",
       "      <td>[953679]</td>\n",
       "      <td>US</td>\n",
       "      <td>eng</td>\n",
       "      <td>[{'count': '90', 'name': 'to-read'}, {'count':...</td>\n",
       "      <td>B01ALOWJN0</td>\n",
       "      <td>true</td>\n",
       "      <td>3.49</td>\n",
       "      <td>B01ALOWJN0</td>\n",
       "      <td>[]</td>\n",
       "      <td>BATHS, BANKS AND ROMAN INSURRECTION\\nDetective...</td>\n",
       "      <td></td>\n",
       "      <td>https://www.goodreads.com/book/show/29074697-t...</td>\n",
       "      <td>[{'author_id': '15104629', 'role': ''}, {'auth...</td>\n",
       "      <td>Amazon Digital Services</td>\n",
       "      <td></td>\n",
       "      <td></td>\n",
       "      <td></td>\n",
       "      <td></td>\n",
       "      <td></td>\n",
       "      <td></td>\n",
       "      <td>https://www.goodreads.com/book/show/29074697-t...</td>\n",
       "      <td>https://s.gr-assets.com/assets/nophoto/book/11...</td>\n",
       "      <td>29074697</td>\n",
       "      <td>192</td>\n",
       "      <td>49305010</td>\n",
       "      <td>The Slaughtered Virgin of Zenopolis (Inspector...</td>\n",
       "      <td>The Slaughtered Virgin of Zenopolis (Inspector...</td>\n",
       "    </tr>\n",
       "  </tbody>\n",
       "</table>\n",
       "</div>"
      ],
      "text/plain": [
       "          isbn  ...                               title_without_series\n",
       "2               ...  The Unschooled Wizard (Sun Wolf and Starhawk, ...\n",
       "3   0743294297  ...                               Best Friends Forever\n",
       "16  0842379428  ...                                             Heaven\n",
       "18  0590417010  ...                                         Dog Heaven\n",
       "31              ...  The Slaughtered Virgin of Zenopolis (Inspector...\n",
       "\n",
       "[5 rows x 29 columns]"
      ]
     },
     "execution_count": 70,
     "metadata": {
      "tags": []
     },
     "output_type": "execute_result"
    }
   ],
   "source": [
    "df3.head()"
   ]
  },
  {
   "cell_type": "code",
   "execution_count": 0,
   "metadata": {
    "colab": {},
    "colab_type": "code",
    "id": "xbD_LG19spJ3"
   },
   "outputs": [],
   "source": [
    "url = df3[\"image_url\"]"
   ]
  },
  {
   "cell_type": "code",
   "execution_count": 72,
   "metadata": {
    "colab": {
     "base_uri": "https://localhost:8080/",
     "height": 34
    },
    "colab_type": "code",
    "id": "CwdjQ2LtspIA",
    "outputId": "4dc09d51-d119-4558-eb42-af1a700889a4"
   },
   "outputs": [
    {
     "name": "stdout",
     "output_type": "stream",
     "text": [
      "19682\n"
     ]
    }
   ],
   "source": [
    "cnt=0\n",
    "for i in url:\n",
    "  if \"image\" in i:\n",
    "    cnt+=1\n",
    "print(cnt)"
   ]
  },
  {
   "cell_type": "markdown",
   "metadata": {},
   "source": [
    "### Books with cover images"
   ]
  },
  {
   "cell_type": "code",
   "execution_count": 0,
   "metadata": {
    "colab": {},
    "colab_type": "code",
    "id": "9LeT3-ADspFe"
   },
   "outputs": [],
   "source": [
    "df3=df3[df3.image_url.str.contains(\"images\") ]"
   ]
  },
  {
   "cell_type": "code",
   "execution_count": 74,
   "metadata": {
    "colab": {
     "base_uri": "https://localhost:8080/",
     "height": 34
    },
    "colab_type": "code",
    "id": "TQ5rm9tU4QJX",
    "outputId": "d552a9a9-65f7-4bf7-fbd5-b40092bd0b08"
   },
   "outputs": [
    {
     "data": {
      "text/plain": [
       "19682"
      ]
     },
     "execution_count": 74,
     "metadata": {
      "tags": []
     },
     "output_type": "execute_result"
    }
   ],
   "source": [
    "len(df3)"
   ]
  },
  {
   "cell_type": "code",
   "execution_count": 77,
   "metadata": {
    "colab": {
     "base_uri": "https://localhost:8080/",
     "height": 581
    },
    "colab_type": "code",
    "id": "b9wE7RAt4Qg6",
    "outputId": "c1844bdd-bcde-4826-9b8d-08f00e59ea0f"
   },
   "outputs": [
    {
     "data": {
      "text/html": [
       "<div>\n",
       "<style scoped>\n",
       "    .dataframe tbody tr th:only-of-type {\n",
       "        vertical-align: middle;\n",
       "    }\n",
       "\n",
       "    .dataframe tbody tr th {\n",
       "        vertical-align: top;\n",
       "    }\n",
       "\n",
       "    .dataframe thead th {\n",
       "        text-align: right;\n",
       "    }\n",
       "</style>\n",
       "<table border=\"1\" class=\"dataframe\">\n",
       "  <thead>\n",
       "    <tr style=\"text-align: right;\">\n",
       "      <th></th>\n",
       "      <th>isbn</th>\n",
       "      <th>text_reviews_count</th>\n",
       "      <th>series</th>\n",
       "      <th>country_code</th>\n",
       "      <th>language_code</th>\n",
       "      <th>popular_shelves</th>\n",
       "      <th>asin</th>\n",
       "      <th>is_ebook</th>\n",
       "      <th>average_rating</th>\n",
       "      <th>kindle_asin</th>\n",
       "      <th>similar_books</th>\n",
       "      <th>description</th>\n",
       "      <th>format</th>\n",
       "      <th>link</th>\n",
       "      <th>authors</th>\n",
       "      <th>publisher</th>\n",
       "      <th>num_pages</th>\n",
       "      <th>publication_day</th>\n",
       "      <th>isbn13</th>\n",
       "      <th>publication_month</th>\n",
       "      <th>edition_information</th>\n",
       "      <th>publication_year</th>\n",
       "      <th>url</th>\n",
       "      <th>image_url</th>\n",
       "      <th>book_id</th>\n",
       "      <th>ratings_count</th>\n",
       "      <th>work_id</th>\n",
       "      <th>title</th>\n",
       "      <th>title_without_series</th>\n",
       "    </tr>\n",
       "  </thead>\n",
       "  <tbody>\n",
       "    <tr>\n",
       "      <th>2</th>\n",
       "      <td></td>\n",
       "      <td>7</td>\n",
       "      <td>[189911]</td>\n",
       "      <td>US</td>\n",
       "      <td>eng</td>\n",
       "      <td>[{'count': '58', 'name': 'to-read'}, {'count':...</td>\n",
       "      <td>B00071IKUY</td>\n",
       "      <td>false</td>\n",
       "      <td>4.03</td>\n",
       "      <td></td>\n",
       "      <td>[19997, 828466, 1569323, 425389, 1176674, 2627...</td>\n",
       "      <td>Omnibus book club edition containing the Ladie...</td>\n",
       "      <td>Hardcover</td>\n",
       "      <td>https://www.goodreads.com/book/show/7327624-th...</td>\n",
       "      <td>[{'author_id': '10333', 'role': ''}]</td>\n",
       "      <td>Nelson Doubleday, Inc.</td>\n",
       "      <td>600</td>\n",
       "      <td></td>\n",
       "      <td></td>\n",
       "      <td></td>\n",
       "      <td>Book Club Edition</td>\n",
       "      <td>1987</td>\n",
       "      <td>https://www.goodreads.com/book/show/7327624-th...</td>\n",
       "      <td>https://images.gr-assets.com/books/1304100136m...</td>\n",
       "      <td>7327624</td>\n",
       "      <td>140</td>\n",
       "      <td>8948723</td>\n",
       "      <td>The Unschooled Wizard (Sun Wolf and Starhawk, ...</td>\n",
       "      <td>The Unschooled Wizard (Sun Wolf and Starhawk, ...</td>\n",
       "    </tr>\n",
       "    <tr>\n",
       "      <th>16</th>\n",
       "      <td>0842379428</td>\n",
       "      <td>566</td>\n",
       "      <td>[]</td>\n",
       "      <td>US</td>\n",
       "      <td>eng</td>\n",
       "      <td>[{'count': '6393', 'name': 'to-read'}, {'count...</td>\n",
       "      <td></td>\n",
       "      <td>false</td>\n",
       "      <td>4.26</td>\n",
       "      <td>B000FCKCJC</td>\n",
       "      <td>[45366, 246849, 11096385, 19102466, 761197, 11...</td>\n",
       "      <td>What is Heaven really going to be like? What w...</td>\n",
       "      <td></td>\n",
       "      <td>https://www.goodreads.com/book/show/89376.Heaven</td>\n",
       "      <td>[{'author_id': '4862', 'role': ''}]</td>\n",
       "      <td></td>\n",
       "      <td>533</td>\n",
       "      <td></td>\n",
       "      <td>9780842379427</td>\n",
       "      <td></td>\n",
       "      <td></td>\n",
       "      <td></td>\n",
       "      <td>https://www.goodreads.com/book/show/89376.Heaven</td>\n",
       "      <td>https://images.gr-assets.com/books/1406508230m...</td>\n",
       "      <td>89376</td>\n",
       "      <td>7345</td>\n",
       "      <td>86257</td>\n",
       "      <td>Heaven</td>\n",
       "      <td>Heaven</td>\n",
       "    </tr>\n",
       "    <tr>\n",
       "      <th>18</th>\n",
       "      <td>0590417010</td>\n",
       "      <td>193</td>\n",
       "      <td>[]</td>\n",
       "      <td>US</td>\n",
       "      <td>eng</td>\n",
       "      <td>[{'count': '450', 'name': 'to-read'}, {'count'...</td>\n",
       "      <td></td>\n",
       "      <td>false</td>\n",
       "      <td>4.43</td>\n",
       "      <td>B017RORXNI</td>\n",
       "      <td>[834493, 452189, 140185, 1897316, 2189812, 424...</td>\n",
       "      <td>In Newbery Medalist Cynthia Rylant's classic b...</td>\n",
       "      <td>Hardcover</td>\n",
       "      <td>https://www.goodreads.com/book/show/89378.Dog_...</td>\n",
       "      <td>[{'author_id': '5411', 'role': ''}]</td>\n",
       "      <td>Blue Sky Press</td>\n",
       "      <td>40</td>\n",
       "      <td>1</td>\n",
       "      <td>9780590417013</td>\n",
       "      <td>9</td>\n",
       "      <td></td>\n",
       "      <td>1995</td>\n",
       "      <td>https://www.goodreads.com/book/show/89378.Dog_...</td>\n",
       "      <td>https://images.gr-assets.com/books/1360057676m...</td>\n",
       "      <td>89378</td>\n",
       "      <td>1331</td>\n",
       "      <td>86259</td>\n",
       "      <td>Dog Heaven</td>\n",
       "      <td>Dog Heaven</td>\n",
       "    </tr>\n",
       "    <tr>\n",
       "      <th>48</th>\n",
       "      <td></td>\n",
       "      <td>15</td>\n",
       "      <td>[]</td>\n",
       "      <td>US</td>\n",
       "      <td>eng</td>\n",
       "      <td>[{'count': '1492', 'name': 'to-read'}, {'count...</td>\n",
       "      <td>B013Q70BQG</td>\n",
       "      <td>true</td>\n",
       "      <td>3.98</td>\n",
       "      <td>B013Q70BQG</td>\n",
       "      <td>[386097, 7774253, 576667, 471907, 43174, 38977...</td>\n",
       "      <td>You've Got Mailmeets Julie &amp; Juliain the new f...</td>\n",
       "      <td></td>\n",
       "      <td>https://www.goodreads.com/book/show/27419760-w...</td>\n",
       "      <td>[{'author_id': '47231', 'role': ''}]</td>\n",
       "      <td></td>\n",
       "      <td></td>\n",
       "      <td></td>\n",
       "      <td></td>\n",
       "      <td></td>\n",
       "      <td></td>\n",
       "      <td></td>\n",
       "      <td>https://www.goodreads.com/book/show/27419760-w...</td>\n",
       "      <td>https://images.gr-assets.com/books/1457306424m...</td>\n",
       "      <td>27419760</td>\n",
       "      <td>167</td>\n",
       "      <td>46003673</td>\n",
       "      <td>Wedding Girl</td>\n",
       "      <td>Wedding Girl</td>\n",
       "    </tr>\n",
       "    <tr>\n",
       "      <th>84</th>\n",
       "      <td></td>\n",
       "      <td>5</td>\n",
       "      <td>[246830, 362583, 362581, 623032]</td>\n",
       "      <td>US</td>\n",
       "      <td>eng</td>\n",
       "      <td>[{'count': '493', 'name': 'to-read'}, {'count'...</td>\n",
       "      <td></td>\n",
       "      <td>false</td>\n",
       "      <td>4.28</td>\n",
       "      <td></td>\n",
       "      <td>[13590139, 105963, 207585, 10503130, 4645370, ...</td>\n",
       "      <td>The questions plaguing Captain America's dream...</td>\n",
       "      <td>Hardcover</td>\n",
       "      <td>https://www.goodreads.com/book/show/13571772-c...</td>\n",
       "      <td>[{'author_id': '37450', 'role': ''}]</td>\n",
       "      <td>Hachette Partworks Ltd.</td>\n",
       "      <td>146</td>\n",
       "      <td></td>\n",
       "      <td></td>\n",
       "      <td></td>\n",
       "      <td></td>\n",
       "      <td>2012</td>\n",
       "      <td>https://www.goodreads.com/book/show/13571772-c...</td>\n",
       "      <td>https://images.gr-assets.com/books/1333287305m...</td>\n",
       "      <td>13571772</td>\n",
       "      <td>51</td>\n",
       "      <td>102217</td>\n",
       "      <td>Captain America: Winter Soldier (The Ultimate ...</td>\n",
       "      <td>Captain America: Winter Soldier (The Ultimate ...</td>\n",
       "    </tr>\n",
       "  </tbody>\n",
       "</table>\n",
       "</div>"
      ],
      "text/plain": [
       "          isbn  ...                               title_without_series\n",
       "2               ...  The Unschooled Wizard (Sun Wolf and Starhawk, ...\n",
       "16  0842379428  ...                                             Heaven\n",
       "18  0590417010  ...                                         Dog Heaven\n",
       "48              ...                                       Wedding Girl\n",
       "84              ...  Captain America: Winter Soldier (The Ultimate ...\n",
       "\n",
       "[5 rows x 29 columns]"
      ]
     },
     "execution_count": 77,
     "metadata": {
      "tags": []
     },
     "output_type": "execute_result"
    }
   ],
   "source": [
    "df3.head()"
   ]
  },
  {
   "cell_type": "code",
   "execution_count": 0,
   "metadata": {
    "colab": {},
    "colab_type": "code",
    "id": "7_mVzaE4BE6x"
   },
   "outputs": [],
   "source": [
    "df3=df3.reset_index(drop=True)"
   ]
  },
  {
   "cell_type": "code",
   "execution_count": 0,
   "metadata": {
    "colab": {},
    "colab_type": "code",
    "id": "aCLvE7mE9Ewn"
   },
   "outputs": [],
   "source": [
    "import pandas as pd\n"
   ]
  },
  {
   "cell_type": "code",
   "execution_count": 0,
   "metadata": {
    "colab": {},
    "colab_type": "code",
    "id": "KAHTLxhW9Euf"
   },
   "outputs": [],
   "source": [
    "!cp books.csv /content/drive/My\\ Drive"
   ]
  },
  {
   "cell_type": "code",
   "execution_count": 0,
   "metadata": {
    "colab": {},
    "colab_type": "code",
    "id": "36MaCsOh9Er_"
   },
   "outputs": [],
   "source": [
    "df3=ll2[0]"
   ]
  },
  {
   "cell_type": "code",
   "execution_count": 0,
   "metadata": {
    "colab": {},
    "colab_type": "code",
    "id": "MPBq2pP4Bsfa"
   },
   "outputs": [],
   "source": [
    "df3.to_csv(\"books.csv\")"
   ]
  },
  {
   "cell_type": "code",
   "execution_count": 0,
   "metadata": {
    "colab": {},
    "colab_type": "code",
    "id": "sDxnkidz9Epe"
   },
   "outputs": [],
   "source": [
    "df3=pd.read_csv(\"books.csv\")"
   ]
  },
  {
   "cell_type": "code",
   "execution_count": 0,
   "metadata": {
    "colab": {},
    "colab_type": "code",
    "id": "6coGZrFF9EnH"
   },
   "outputs": [],
   "source": [
    "!gunzip gooreads_book_genres_initial.json.gz"
   ]
  },
  {
   "cell_type": "code",
   "execution_count": 0,
   "metadata": {
    "colab": {},
    "colab_type": "code",
    "id": "SuOcOrPP_Ro1"
   },
   "outputs": [],
   "source": [
    "import pandas as pd\n",
    "import json\n",
    "with open('gooreads_book_genres_initial.json') as json_file:      \n",
    "    data2 = json_file.readlines()\n",
    "    data2 = list(map(json.loads, data2)) \n",
    "\n",
    "df2=pd.DataFrame(data2)"
   ]
  },
  {
   "cell_type": "code",
   "execution_count": 0,
   "metadata": {
    "colab": {},
    "colab_type": "code",
    "id": "lV_rD-tbEjTG"
   },
   "outputs": [],
   "source": [
    "id=df2[\"book_id\"]\n",
    "id2=[]\n",
    "for i in id:\n",
    "  id2.append(str(i))\n",
    "df2[\"book_id\"]=id2"
   ]
  },
  {
   "cell_type": "code",
   "execution_count": 0,
   "metadata": {
    "colab": {},
    "colab_type": "code",
    "id": "pSY9yQOFEpkN"
   },
   "outputs": [],
   "source": [
    "id=df3[\"book_id\"]\n",
    "id2=[]\n",
    "for i in id:\n",
    "  id2.append(str(i))\n",
    "df3[\"book_id\"]=id2"
   ]
  },
  {
   "cell_type": "markdown",
   "metadata": {},
   "source": [
    "### Joining Books with Genres Dataset using Book ID"
   ]
  },
  {
   "cell_type": "code",
   "execution_count": 0,
   "metadata": {
    "colab": {},
    "colab_type": "code",
    "id": "OwXFFu4BEt1g"
   },
   "outputs": [],
   "source": [
    "df_outer = pd.merge(df3, df2, on='book_id', how='left')\n"
   ]
  },
  {
   "cell_type": "code",
   "execution_count": 86,
   "metadata": {
    "colab": {
     "base_uri": "https://localhost:8080/",
     "height": 34
    },
    "colab_type": "code",
    "id": "gJIlPeclEwjM",
    "outputId": "ef286ee4-9b76-45a4-ede8-7bb8e8fed650"
   },
   "outputs": [
    {
     "data": {
      "text/plain": [
       "19682"
      ]
     },
     "execution_count": 86,
     "metadata": {
      "tags": []
     },
     "output_type": "execute_result"
    }
   ],
   "source": [
    "len(df_outer)"
   ]
  },
  {
   "cell_type": "code",
   "execution_count": 0,
   "metadata": {
    "colab": {},
    "colab_type": "code",
    "id": "zW8g9mc2E0no"
   },
   "outputs": [],
   "source": [
    "df_outer.to_csv(\"booksgenre.csv\")"
   ]
  },
  {
   "cell_type": "code",
   "execution_count": 88,
   "metadata": {
    "colab": {
     "base_uri": "https://localhost:8080/",
     "height": 1000
    },
    "colab_type": "code",
    "id": "Xmhya_dwVDnV",
    "outputId": "787a97fa-24ae-4695-b2fb-5ba4e83e089d"
   },
   "outputs": [
    {
     "data": {
      "text/html": [
       "<div>\n",
       "<style scoped>\n",
       "    .dataframe tbody tr th:only-of-type {\n",
       "        vertical-align: middle;\n",
       "    }\n",
       "\n",
       "    .dataframe tbody tr th {\n",
       "        vertical-align: top;\n",
       "    }\n",
       "\n",
       "    .dataframe thead th {\n",
       "        text-align: right;\n",
       "    }\n",
       "</style>\n",
       "<table border=\"1\" class=\"dataframe\">\n",
       "  <thead>\n",
       "    <tr style=\"text-align: right;\">\n",
       "      <th></th>\n",
       "      <th>isbn</th>\n",
       "      <th>text_reviews_count</th>\n",
       "      <th>series</th>\n",
       "      <th>country_code</th>\n",
       "      <th>language_code</th>\n",
       "      <th>popular_shelves</th>\n",
       "      <th>asin</th>\n",
       "      <th>is_ebook</th>\n",
       "      <th>average_rating</th>\n",
       "      <th>kindle_asin</th>\n",
       "      <th>similar_books</th>\n",
       "      <th>description</th>\n",
       "      <th>format</th>\n",
       "      <th>link</th>\n",
       "      <th>authors</th>\n",
       "      <th>publisher</th>\n",
       "      <th>num_pages</th>\n",
       "      <th>publication_day</th>\n",
       "      <th>isbn13</th>\n",
       "      <th>publication_month</th>\n",
       "      <th>edition_information</th>\n",
       "      <th>publication_year</th>\n",
       "      <th>url</th>\n",
       "      <th>image_url</th>\n",
       "      <th>book_id</th>\n",
       "      <th>ratings_count</th>\n",
       "      <th>work_id</th>\n",
       "      <th>title</th>\n",
       "      <th>title_without_series</th>\n",
       "      <th>genres</th>\n",
       "    </tr>\n",
       "  </thead>\n",
       "  <tbody>\n",
       "    <tr>\n",
       "      <th>0</th>\n",
       "      <td></td>\n",
       "      <td>7</td>\n",
       "      <td>[189911]</td>\n",
       "      <td>US</td>\n",
       "      <td>eng</td>\n",
       "      <td>[{'count': '58', 'name': 'to-read'}, {'count':...</td>\n",
       "      <td>B00071IKUY</td>\n",
       "      <td>false</td>\n",
       "      <td>4.03</td>\n",
       "      <td></td>\n",
       "      <td>[19997, 828466, 1569323, 425389, 1176674, 2627...</td>\n",
       "      <td>Omnibus book club edition containing the Ladie...</td>\n",
       "      <td>Hardcover</td>\n",
       "      <td>https://www.goodreads.com/book/show/7327624-th...</td>\n",
       "      <td>[{'author_id': '10333', 'role': ''}]</td>\n",
       "      <td>Nelson Doubleday, Inc.</td>\n",
       "      <td>600</td>\n",
       "      <td></td>\n",
       "      <td></td>\n",
       "      <td></td>\n",
       "      <td>Book Club Edition</td>\n",
       "      <td>1987</td>\n",
       "      <td>https://www.goodreads.com/book/show/7327624-th...</td>\n",
       "      <td>https://images.gr-assets.com/books/1304100136m...</td>\n",
       "      <td>7327624</td>\n",
       "      <td>140</td>\n",
       "      <td>8948723</td>\n",
       "      <td>The Unschooled Wizard (Sun Wolf and Starhawk, ...</td>\n",
       "      <td>The Unschooled Wizard (Sun Wolf and Starhawk, ...</td>\n",
       "      <td>{'fantasy, paranormal': 31, 'fiction': 8, 'mys...</td>\n",
       "    </tr>\n",
       "    <tr>\n",
       "      <th>1</th>\n",
       "      <td>0842379428</td>\n",
       "      <td>566</td>\n",
       "      <td>[]</td>\n",
       "      <td>US</td>\n",
       "      <td>eng</td>\n",
       "      <td>[{'count': '6393', 'name': 'to-read'}, {'count...</td>\n",
       "      <td></td>\n",
       "      <td>false</td>\n",
       "      <td>4.26</td>\n",
       "      <td>B000FCKCJC</td>\n",
       "      <td>[45366, 246849, 11096385, 19102466, 761197, 11...</td>\n",
       "      <td>What is Heaven really going to be like? What w...</td>\n",
       "      <td></td>\n",
       "      <td>https://www.goodreads.com/book/show/89376.Heaven</td>\n",
       "      <td>[{'author_id': '4862', 'role': ''}]</td>\n",
       "      <td></td>\n",
       "      <td>533</td>\n",
       "      <td></td>\n",
       "      <td>9780842379427</td>\n",
       "      <td></td>\n",
       "      <td></td>\n",
       "      <td></td>\n",
       "      <td>https://www.goodreads.com/book/show/89376.Heaven</td>\n",
       "      <td>https://images.gr-assets.com/books/1406508230m...</td>\n",
       "      <td>89376</td>\n",
       "      <td>7345</td>\n",
       "      <td>86257</td>\n",
       "      <td>Heaven</td>\n",
       "      <td>Heaven</td>\n",
       "      <td>{'non-fiction': 163}</td>\n",
       "    </tr>\n",
       "    <tr>\n",
       "      <th>2</th>\n",
       "      <td>0590417010</td>\n",
       "      <td>193</td>\n",
       "      <td>[]</td>\n",
       "      <td>US</td>\n",
       "      <td>eng</td>\n",
       "      <td>[{'count': '450', 'name': 'to-read'}, {'count'...</td>\n",
       "      <td></td>\n",
       "      <td>false</td>\n",
       "      <td>4.43</td>\n",
       "      <td>B017RORXNI</td>\n",
       "      <td>[834493, 452189, 140185, 1897316, 2189812, 424...</td>\n",
       "      <td>In Newbery Medalist Cynthia Rylant's classic b...</td>\n",
       "      <td>Hardcover</td>\n",
       "      <td>https://www.goodreads.com/book/show/89378.Dog_...</td>\n",
       "      <td>[{'author_id': '5411', 'role': ''}]</td>\n",
       "      <td>Blue Sky Press</td>\n",
       "      <td>40</td>\n",
       "      <td>1</td>\n",
       "      <td>9780590417013</td>\n",
       "      <td>9</td>\n",
       "      <td></td>\n",
       "      <td>1995</td>\n",
       "      <td>https://www.goodreads.com/book/show/89378.Dog_...</td>\n",
       "      <td>https://images.gr-assets.com/books/1360057676m...</td>\n",
       "      <td>89378</td>\n",
       "      <td>1331</td>\n",
       "      <td>86259</td>\n",
       "      <td>Dog Heaven</td>\n",
       "      <td>Dog Heaven</td>\n",
       "      <td>{'children': 109, 'fiction': 13, 'non-fiction'...</td>\n",
       "    </tr>\n",
       "    <tr>\n",
       "      <th>3</th>\n",
       "      <td></td>\n",
       "      <td>15</td>\n",
       "      <td>[]</td>\n",
       "      <td>US</td>\n",
       "      <td>eng</td>\n",
       "      <td>[{'count': '1492', 'name': 'to-read'}, {'count...</td>\n",
       "      <td>B013Q70BQG</td>\n",
       "      <td>true</td>\n",
       "      <td>3.98</td>\n",
       "      <td>B013Q70BQG</td>\n",
       "      <td>[386097, 7774253, 576667, 471907, 43174, 38977...</td>\n",
       "      <td>You've Got Mailmeets Julie &amp; Juliain the new f...</td>\n",
       "      <td></td>\n",
       "      <td>https://www.goodreads.com/book/show/27419760-w...</td>\n",
       "      <td>[{'author_id': '47231', 'role': ''}]</td>\n",
       "      <td></td>\n",
       "      <td></td>\n",
       "      <td></td>\n",
       "      <td></td>\n",
       "      <td></td>\n",
       "      <td></td>\n",
       "      <td></td>\n",
       "      <td>https://www.goodreads.com/book/show/27419760-w...</td>\n",
       "      <td>https://images.gr-assets.com/books/1457306424m...</td>\n",
       "      <td>27419760</td>\n",
       "      <td>167</td>\n",
       "      <td>46003673</td>\n",
       "      <td>Wedding Girl</td>\n",
       "      <td>Wedding Girl</td>\n",
       "      <td>{'romance': 27, 'fiction': 22}</td>\n",
       "    </tr>\n",
       "    <tr>\n",
       "      <th>4</th>\n",
       "      <td></td>\n",
       "      <td>5</td>\n",
       "      <td>[246830, 362583, 362581, 623032]</td>\n",
       "      <td>US</td>\n",
       "      <td>eng</td>\n",
       "      <td>[{'count': '493', 'name': 'to-read'}, {'count'...</td>\n",
       "      <td></td>\n",
       "      <td>false</td>\n",
       "      <td>4.28</td>\n",
       "      <td></td>\n",
       "      <td>[13590139, 105963, 207585, 10503130, 4645370, ...</td>\n",
       "      <td>The questions plaguing Captain America's dream...</td>\n",
       "      <td>Hardcover</td>\n",
       "      <td>https://www.goodreads.com/book/show/13571772-c...</td>\n",
       "      <td>[{'author_id': '37450', 'role': ''}]</td>\n",
       "      <td>Hachette Partworks Ltd.</td>\n",
       "      <td>146</td>\n",
       "      <td></td>\n",
       "      <td></td>\n",
       "      <td></td>\n",
       "      <td></td>\n",
       "      <td>2012</td>\n",
       "      <td>https://www.goodreads.com/book/show/13571772-c...</td>\n",
       "      <td>https://images.gr-assets.com/books/1333287305m...</td>\n",
       "      <td>13571772</td>\n",
       "      <td>51</td>\n",
       "      <td>102217</td>\n",
       "      <td>Captain America: Winter Soldier (The Ultimate ...</td>\n",
       "      <td>Captain America: Winter Soldier (The Ultimate ...</td>\n",
       "      <td>{'comics, graphic': 433, 'fiction': 19, 'fanta...</td>\n",
       "    </tr>\n",
       "    <tr>\n",
       "      <th>...</th>\n",
       "      <td>...</td>\n",
       "      <td>...</td>\n",
       "      <td>...</td>\n",
       "      <td>...</td>\n",
       "      <td>...</td>\n",
       "      <td>...</td>\n",
       "      <td>...</td>\n",
       "      <td>...</td>\n",
       "      <td>...</td>\n",
       "      <td>...</td>\n",
       "      <td>...</td>\n",
       "      <td>...</td>\n",
       "      <td>...</td>\n",
       "      <td>...</td>\n",
       "      <td>...</td>\n",
       "      <td>...</td>\n",
       "      <td>...</td>\n",
       "      <td>...</td>\n",
       "      <td>...</td>\n",
       "      <td>...</td>\n",
       "      <td>...</td>\n",
       "      <td>...</td>\n",
       "      <td>...</td>\n",
       "      <td>...</td>\n",
       "      <td>...</td>\n",
       "      <td>...</td>\n",
       "      <td>...</td>\n",
       "      <td>...</td>\n",
       "      <td>...</td>\n",
       "      <td>...</td>\n",
       "    </tr>\n",
       "    <tr>\n",
       "      <th>19677</th>\n",
       "      <td>1452857237</td>\n",
       "      <td>30</td>\n",
       "      <td>[253252]</td>\n",
       "      <td>US</td>\n",
       "      <td>eng</td>\n",
       "      <td>[{'count': '241', 'name': 'to-read'}, {'count'...</td>\n",
       "      <td></td>\n",
       "      <td>false</td>\n",
       "      <td>3.99</td>\n",
       "      <td>B003L77PZM</td>\n",
       "      <td>[2098363, 12480650, 935472, 12698687, 1441971,...</td>\n",
       "      <td>After winning back the money his uncle gambled...</td>\n",
       "      <td>Paperback</td>\n",
       "      <td>https://www.goodreads.com/book/show/8279428-th...</td>\n",
       "      <td>[{'author_id': '155650', 'role': ''}]</td>\n",
       "      <td>CreateSpace</td>\n",
       "      <td>214</td>\n",
       "      <td>7</td>\n",
       "      <td>9781452857237</td>\n",
       "      <td>5</td>\n",
       "      <td></td>\n",
       "      <td>2010</td>\n",
       "      <td>https://www.goodreads.com/book/show/8279428-th...</td>\n",
       "      <td>https://images.gr-assets.com/books/1330591019m...</td>\n",
       "      <td>8279428</td>\n",
       "      <td>431</td>\n",
       "      <td>13127736</td>\n",
       "      <td>The Wrong Husband (Nebraska Historicals, #5)</td>\n",
       "      <td>The Wrong Husband (Nebraska Historicals, #5)</td>\n",
       "      <td>{'romance': 45, 'history, historical fiction, ...</td>\n",
       "    </tr>\n",
       "    <tr>\n",
       "      <th>19678</th>\n",
       "      <td>0747594848</td>\n",
       "      <td>78</td>\n",
       "      <td>[214957]</td>\n",
       "      <td>US</td>\n",
       "      <td>eng</td>\n",
       "      <td>[{'count': '1415', 'name': 'to-read'}, {'count...</td>\n",
       "      <td></td>\n",
       "      <td>false</td>\n",
       "      <td>4.27</td>\n",
       "      <td>B003UYUOT0</td>\n",
       "      <td>[13012638, 4621258, 1246570, 6120544, 13603796...</td>\n",
       "      <td>Otto is on the run from US security forces - t...</td>\n",
       "      <td></td>\n",
       "      <td>https://www.goodreads.com/book/show/6275767-dr...</td>\n",
       "      <td>[{'author_id': '487718', 'role': ''}]</td>\n",
       "      <td></td>\n",
       "      <td>298</td>\n",
       "      <td></td>\n",
       "      <td>9780747594840</td>\n",
       "      <td></td>\n",
       "      <td></td>\n",
       "      <td></td>\n",
       "      <td>https://www.goodreads.com/book/show/6275767-dr...</td>\n",
       "      <td>https://images.gr-assets.com/books/1327888760m...</td>\n",
       "      <td>6275767</td>\n",
       "      <td>3522</td>\n",
       "      <td>6459127</td>\n",
       "      <td>Dreadnought (H.I.V.E, #4)</td>\n",
       "      <td>Dreadnought (H.I.V.E, #4)</td>\n",
       "      <td>{'fiction': 58, 'young-adult': 36, 'mystery, t...</td>\n",
       "    </tr>\n",
       "    <tr>\n",
       "      <th>19679</th>\n",
       "      <td></td>\n",
       "      <td>24</td>\n",
       "      <td>[]</td>\n",
       "      <td>US</td>\n",
       "      <td>eng</td>\n",
       "      <td>[{'count': '587', 'name': 'to-read'}, {'count'...</td>\n",
       "      <td></td>\n",
       "      <td>false</td>\n",
       "      <td>3.56</td>\n",
       "      <td></td>\n",
       "      <td>[22286, 607900, 3102122, 23930, 19161901, 5278...</td>\n",
       "      <td>Chuck Palahniuk's world has been, well, differ...</td>\n",
       "      <td>Paperback</td>\n",
       "      <td>https://www.goodreads.com/book/show/24820339-n...</td>\n",
       "      <td>[{'author_id': '2546', 'role': ''}]</td>\n",
       "      <td>Vintage Books, USA</td>\n",
       "      <td>253</td>\n",
       "      <td></td>\n",
       "      <td>0099437970</td>\n",
       "      <td></td>\n",
       "      <td></td>\n",
       "      <td>2004</td>\n",
       "      <td>https://www.goodreads.com/book/show/24820339-n...</td>\n",
       "      <td>https://images.gr-assets.com/books/1427753923m...</td>\n",
       "      <td>24820339</td>\n",
       "      <td>712</td>\n",
       "      <td>382865</td>\n",
       "      <td>Non-Fiction</td>\n",
       "      <td>Non-Fiction</td>\n",
       "      <td>{'fiction': 51, 'non-fiction': 25, 'history, h...</td>\n",
       "    </tr>\n",
       "    <tr>\n",
       "      <th>19680</th>\n",
       "      <td></td>\n",
       "      <td>22</td>\n",
       "      <td>[541152]</td>\n",
       "      <td>US</td>\n",
       "      <td>eng</td>\n",
       "      <td>[{'count': '37', 'name': 'to-read'}, {'count':...</td>\n",
       "      <td>B005Y4E3KK</td>\n",
       "      <td>true</td>\n",
       "      <td>4.19</td>\n",
       "      <td>B005Y4E3KK</td>\n",
       "      <td>[24611984, 13575187, 9301370, 13629693, 130003...</td>\n",
       "      <td>White Flag Of The Dead: Book 4\\nDuring the Uph...</td>\n",
       "      <td>Kindle Edition</td>\n",
       "      <td>https://www.goodreads.com/book/show/12960440-u...</td>\n",
       "      <td>[{'author_id': '3242277', 'role': ''}]</td>\n",
       "      <td></td>\n",
       "      <td></td>\n",
       "      <td></td>\n",
       "      <td></td>\n",
       "      <td></td>\n",
       "      <td></td>\n",
       "      <td></td>\n",
       "      <td>https://www.goodreads.com/book/show/12960440-u...</td>\n",
       "      <td>https://images.gr-assets.com/books/1332644303m...</td>\n",
       "      <td>12960440</td>\n",
       "      <td>544</td>\n",
       "      <td>18117995</td>\n",
       "      <td>United States of the Dead (White Flag of the D...</td>\n",
       "      <td>United States of the Dead (White Flag of the D...</td>\n",
       "      <td>{'fantasy, paranormal': 1, 'fiction': 2}</td>\n",
       "    </tr>\n",
       "    <tr>\n",
       "      <th>19681</th>\n",
       "      <td>0990540065</td>\n",
       "      <td>71</td>\n",
       "      <td>[809708]</td>\n",
       "      <td>US</td>\n",
       "      <td>eng</td>\n",
       "      <td>[{'count': '792', 'name': 'to-read'}, {'count'...</td>\n",
       "      <td></td>\n",
       "      <td>true</td>\n",
       "      <td>4.06</td>\n",
       "      <td></td>\n",
       "      <td>[1909136, 13547194, 28427, 30302018, 13575518,...</td>\n",
       "      <td>The Jacobite Rebellion--not the best time to g...</td>\n",
       "      <td>ebook</td>\n",
       "      <td>https://www.goodreads.com/book/show/27160030-m...</td>\n",
       "      <td>[{'author_id': '6589790', 'role': ''}]</td>\n",
       "      <td>Smashwords</td>\n",
       "      <td>242</td>\n",
       "      <td>6</td>\n",
       "      <td>9780990540069</td>\n",
       "      <td>7</td>\n",
       "      <td></td>\n",
       "      <td>2016</td>\n",
       "      <td>https://www.goodreads.com/book/show/27160030-m...</td>\n",
       "      <td>https://images.gr-assets.com/books/1466457908m...</td>\n",
       "      <td>27160030</td>\n",
       "      <td>173</td>\n",
       "      <td>46032089</td>\n",
       "      <td>Must Love Kilts (Must Love, #3)</td>\n",
       "      <td>Must Love Kilts (Must Love, #3)</td>\n",
       "      <td>{'romance': 45, 'history, historical fiction, ...</td>\n",
       "    </tr>\n",
       "  </tbody>\n",
       "</table>\n",
       "<p>19682 rows × 30 columns</p>\n",
       "</div>"
      ],
      "text/plain": [
       "             isbn  ...                                             genres\n",
       "0                  ...  {'fantasy, paranormal': 31, 'fiction': 8, 'mys...\n",
       "1      0842379428  ...                               {'non-fiction': 163}\n",
       "2      0590417010  ...  {'children': 109, 'fiction': 13, 'non-fiction'...\n",
       "3                  ...                     {'romance': 27, 'fiction': 22}\n",
       "4                  ...  {'comics, graphic': 433, 'fiction': 19, 'fanta...\n",
       "...           ...  ...                                                ...\n",
       "19677  1452857237  ...  {'romance': 45, 'history, historical fiction, ...\n",
       "19678  0747594848  ...  {'fiction': 58, 'young-adult': 36, 'mystery, t...\n",
       "19679              ...  {'fiction': 51, 'non-fiction': 25, 'history, h...\n",
       "19680              ...           {'fantasy, paranormal': 1, 'fiction': 2}\n",
       "19681  0990540065  ...  {'romance': 45, 'history, historical fiction, ...\n",
       "\n",
       "[19682 rows x 30 columns]"
      ]
     },
     "execution_count": 88,
     "metadata": {
      "tags": []
     },
     "output_type": "execute_result"
    }
   ],
   "source": [
    "df_outer"
   ]
  },
  {
   "cell_type": "code",
   "execution_count": 0,
   "metadata": {
    "colab": {},
    "colab_type": "code",
    "id": "CJm4Q7TXMDj2"
   },
   "outputs": [],
   "source": [
    "import pandas as pd\n",
    "df_outer=pd.read_csv(\"booksgenre.csv\")"
   ]
  },
  {
   "cell_type": "code",
   "execution_count": 9,
   "metadata": {
    "colab": {
     "base_uri": "https://localhost:8080/",
     "height": 34
    },
    "colab_type": "code",
    "id": "LD40EdfLE6_f",
    "outputId": "e118f535-3455-4a6c-adea-eb7fd72ab9c8"
   },
   "outputs": [
    {
     "data": {
      "text/plain": [
       "{'fiction': 219, 'history, historical fiction, biography': 5}"
      ]
     },
     "execution_count": 9,
     "metadata": {
      "tags": []
     },
     "output_type": "execute_result"
    }
   ],
   "source": [
    "df_outer.iloc[1][\"genres\"]"
   ]
  },
  {
   "cell_type": "code",
   "execution_count": 0,
   "metadata": {
    "colab": {},
    "colab_type": "code",
    "id": "DbJpTLwvFV7v"
   },
   "outputs": [],
   "source": [
    "a=df_outer[\"genres\"]"
   ]
  },
  {
   "cell_type": "code",
   "execution_count": 90,
   "metadata": {
    "colab": {
     "base_uri": "https://localhost:8080/",
     "height": 34
    },
    "colab_type": "code",
    "id": "qTIM8GlLGHL1",
    "outputId": "5189539f-fcff-4983-a730-5bd78e5c0942"
   },
   "outputs": [
    {
     "data": {
      "text/plain": [
       "['fantasy, paranormal', 'fiction', 'mystery, thriller, crime', 'poetry']"
      ]
     },
     "execution_count": 90,
     "metadata": {
      "tags": []
     },
     "output_type": "execute_result"
    }
   ],
   "source": [
    "list(a[0].keys())"
   ]
  },
  {
   "cell_type": "code",
   "execution_count": 0,
   "metadata": {
    "colab": {},
    "colab_type": "code",
    "id": "skvT3OLsFaT9"
   },
   "outputs": [],
   "source": [
    "b=[]\n",
    "for i in a:\n",
    "  b.extend(list(i.keys()))"
   ]
  },
  {
   "cell_type": "code",
   "execution_count": 92,
   "metadata": {
    "colab": {
     "base_uri": "https://localhost:8080/",
     "height": 34
    },
    "colab_type": "code",
    "id": "2yUycpURGSB1",
    "outputId": "75cec7d7-4be3-4ef2-f04e-0ae7b6e2204d"
   },
   "outputs": [
    {
     "data": {
      "text/plain": [
       "60910"
      ]
     },
     "execution_count": 92,
     "metadata": {
      "tags": []
     },
     "output_type": "execute_result"
    }
   ],
   "source": [
    "len(b)"
   ]
  },
  {
   "cell_type": "code",
   "execution_count": 0,
   "metadata": {
    "colab": {},
    "colab_type": "code",
    "id": "9EUWiTeqGcD1"
   },
   "outputs": [],
   "source": [
    "c=set(b)"
   ]
  },
  {
   "cell_type": "markdown",
   "metadata": {},
   "source": [
    "### Genre Set"
   ]
  },
  {
   "cell_type": "code",
   "execution_count": 94,
   "metadata": {
    "colab": {
     "base_uri": "https://localhost:8080/",
     "height": 187
    },
    "colab_type": "code",
    "id": "V7A7PgQjGfmX",
    "outputId": "30964c0c-e4b7-4343-e458-5b32bc1a6e34"
   },
   "outputs": [
    {
     "data": {
      "text/plain": [
       "{'children',\n",
       " 'comics, graphic',\n",
       " 'fantasy, paranormal',\n",
       " 'fiction',\n",
       " 'history, historical fiction, biography',\n",
       " 'mystery, thriller, crime',\n",
       " 'non-fiction',\n",
       " 'poetry',\n",
       " 'romance',\n",
       " 'young-adult'}"
      ]
     },
     "execution_count": 94,
     "metadata": {
      "tags": []
     },
     "output_type": "execute_result"
    }
   ],
   "source": [
    "c"
   ]
  },
  {
   "cell_type": "code",
   "execution_count": 0,
   "metadata": {
    "colab": {},
    "colab_type": "code",
    "id": "cEdrKUrmGgkU"
   },
   "outputs": [],
   "source": [
    "e={1,2,3,4,5,6,7,8,9,10}"
   ]
  },
  {
   "cell_type": "code",
   "execution_count": 96,
   "metadata": {
    "colab": {
     "base_uri": "https://localhost:8080/",
     "height": 71
    },
    "colab_type": "code",
    "id": "uEgfR_pBIIRF",
    "outputId": "8ce594fa-89da-4ec5-ff3c-e2a9e8f230e2"
   },
   "outputs": [
    {
     "name": "stdout",
     "output_type": "stream",
     "text": [
      "{1: 'non-fiction', 2: 'mystery, thriller, crime', 3: 'fantasy, paranormal', 4: 'young-adult', 5: 'comics, graphic', 6: 'history, historical fiction, biography', 7: 'fiction', 8: 'children', 9: 'romance', 10: 'poetry'}\n",
      "<class 'dict'>\n"
     ]
    }
   ],
   "source": [
    "new_dict = dict(zip(e, c))\n",
    "print(new_dict)\n",
    "print(type(new_dict))"
   ]
  },
  {
   "cell_type": "code",
   "execution_count": 0,
   "metadata": {
    "colab": {},
    "colab_type": "code",
    "id": "3sh9ly3JIMSP"
   },
   "outputs": [],
   "source": [
    "dfk=df_outer[[\"book_id\",\"genres\"]]"
   ]
  },
  {
   "cell_type": "code",
   "execution_count": 98,
   "metadata": {
    "colab": {
     "base_uri": "https://localhost:8080/",
     "height": 419
    },
    "colab_type": "code",
    "id": "oLpT-VfwIRp8",
    "outputId": "561af478-d8c0-4be7-b3f8-41e659ef01a4"
   },
   "outputs": [
    {
     "data": {
      "text/html": [
       "<div>\n",
       "<style scoped>\n",
       "    .dataframe tbody tr th:only-of-type {\n",
       "        vertical-align: middle;\n",
       "    }\n",
       "\n",
       "    .dataframe tbody tr th {\n",
       "        vertical-align: top;\n",
       "    }\n",
       "\n",
       "    .dataframe thead th {\n",
       "        text-align: right;\n",
       "    }\n",
       "</style>\n",
       "<table border=\"1\" class=\"dataframe\">\n",
       "  <thead>\n",
       "    <tr style=\"text-align: right;\">\n",
       "      <th></th>\n",
       "      <th>book_id</th>\n",
       "      <th>genres</th>\n",
       "    </tr>\n",
       "  </thead>\n",
       "  <tbody>\n",
       "    <tr>\n",
       "      <th>0</th>\n",
       "      <td>7327624</td>\n",
       "      <td>{'fantasy, paranormal': 31, 'fiction': 8, 'mys...</td>\n",
       "    </tr>\n",
       "    <tr>\n",
       "      <th>1</th>\n",
       "      <td>89376</td>\n",
       "      <td>{'non-fiction': 163}</td>\n",
       "    </tr>\n",
       "    <tr>\n",
       "      <th>2</th>\n",
       "      <td>89378</td>\n",
       "      <td>{'children': 109, 'fiction': 13, 'non-fiction'...</td>\n",
       "    </tr>\n",
       "    <tr>\n",
       "      <th>3</th>\n",
       "      <td>27419760</td>\n",
       "      <td>{'romance': 27, 'fiction': 22}</td>\n",
       "    </tr>\n",
       "    <tr>\n",
       "      <th>4</th>\n",
       "      <td>13571772</td>\n",
       "      <td>{'comics, graphic': 433, 'fiction': 19, 'fanta...</td>\n",
       "    </tr>\n",
       "    <tr>\n",
       "      <th>...</th>\n",
       "      <td>...</td>\n",
       "      <td>...</td>\n",
       "    </tr>\n",
       "    <tr>\n",
       "      <th>19677</th>\n",
       "      <td>8279428</td>\n",
       "      <td>{'romance': 45, 'history, historical fiction, ...</td>\n",
       "    </tr>\n",
       "    <tr>\n",
       "      <th>19678</th>\n",
       "      <td>6275767</td>\n",
       "      <td>{'fiction': 58, 'young-adult': 36, 'mystery, t...</td>\n",
       "    </tr>\n",
       "    <tr>\n",
       "      <th>19679</th>\n",
       "      <td>24820339</td>\n",
       "      <td>{'fiction': 51, 'non-fiction': 25, 'history, h...</td>\n",
       "    </tr>\n",
       "    <tr>\n",
       "      <th>19680</th>\n",
       "      <td>12960440</td>\n",
       "      <td>{'fantasy, paranormal': 1, 'fiction': 2}</td>\n",
       "    </tr>\n",
       "    <tr>\n",
       "      <th>19681</th>\n",
       "      <td>27160030</td>\n",
       "      <td>{'romance': 45, 'history, historical fiction, ...</td>\n",
       "    </tr>\n",
       "  </tbody>\n",
       "</table>\n",
       "<p>19682 rows × 2 columns</p>\n",
       "</div>"
      ],
      "text/plain": [
       "        book_id                                             genres\n",
       "0       7327624  {'fantasy, paranormal': 31, 'fiction': 8, 'mys...\n",
       "1         89376                               {'non-fiction': 163}\n",
       "2         89378  {'children': 109, 'fiction': 13, 'non-fiction'...\n",
       "3      27419760                     {'romance': 27, 'fiction': 22}\n",
       "4      13571772  {'comics, graphic': 433, 'fiction': 19, 'fanta...\n",
       "...         ...                                                ...\n",
       "19677   8279428  {'romance': 45, 'history, historical fiction, ...\n",
       "19678   6275767  {'fiction': 58, 'young-adult': 36, 'mystery, t...\n",
       "19679  24820339  {'fiction': 51, 'non-fiction': 25, 'history, h...\n",
       "19680  12960440           {'fantasy, paranormal': 1, 'fiction': 2}\n",
       "19681  27160030  {'romance': 45, 'history, historical fiction, ...\n",
       "\n",
       "[19682 rows x 2 columns]"
      ]
     },
     "execution_count": 98,
     "metadata": {
      "tags": []
     },
     "output_type": "execute_result"
    }
   ],
   "source": [
    "dfk"
   ]
  },
  {
   "cell_type": "code",
   "execution_count": 0,
   "metadata": {
    "colab": {},
    "colab_type": "code",
    "id": "1yFZ6KZ9M4zn"
   },
   "outputs": [],
   "source": [
    "lll=df2[\"genres\"]"
   ]
  },
  {
   "cell_type": "code",
   "execution_count": 100,
   "metadata": {
    "colab": {
     "base_uri": "https://localhost:8080/",
     "height": 34
    },
    "colab_type": "code",
    "id": "gLsUnLUJM9rH",
    "outputId": "e436ff2f-64cb-4a5a-a78c-c8599b66687d"
   },
   "outputs": [
    {
     "name": "stdout",
     "output_type": "stream",
     "text": [
      "409513\n"
     ]
    }
   ],
   "source": [
    "cnt=0\n",
    "for i in lll:\n",
    "  if i=={}:\n",
    "    cnt+=1\n",
    "print(cnt)"
   ]
  },
  {
   "cell_type": "code",
   "execution_count": 101,
   "metadata": {
    "colab": {
     "base_uri": "https://localhost:8080/",
     "height": 34
    },
    "colab_type": "code",
    "id": "zFHhXvvCNV4v",
    "outputId": "25462305-709d-4804-bd80-14b39716b99e"
   },
   "outputs": [
    {
     "data": {
      "text/plain": [
       "2360655"
      ]
     },
     "execution_count": 101,
     "metadata": {
      "tags": []
     },
     "output_type": "execute_result"
    }
   ],
   "source": [
    "len(lll)"
   ]
  },
  {
   "cell_type": "code",
   "execution_count": 0,
   "metadata": {
    "colab": {},
    "colab_type": "code",
    "id": "9iIEteZrJ64B"
   },
   "outputs": [],
   "source": [
    "def get_key(val): \n",
    "    for key, value in new_dict.items(): \n",
    "         if val == value: \n",
    "             return key"
   ]
  },
  {
   "cell_type": "code",
   "execution_count": 0,
   "metadata": {
    "colab": {},
    "colab_type": "code",
    "id": "u0EFYr5lIvil"
   },
   "outputs": [],
   "source": [
    "genres=[]\n",
    "for i in range(len(dfk)):\n",
    "  for j in list(dfk.iloc[i][\"genres\"].keys()):\n",
    "    genres.append([dfk.iloc[i][\"book_id\"],get_key(j)])\n"
   ]
  },
  {
   "cell_type": "code",
   "execution_count": 0,
   "metadata": {
    "colab": {},
    "colab_type": "code",
    "id": "1ilolyHaOT6g"
   },
   "outputs": [],
   "source": [
    "import pickle\n",
    "f=open(\"genremap.pkl\",\"wb\")\n",
    "pickle.dump(genres,f)"
   ]
  },
  {
   "cell_type": "code",
   "execution_count": 105,
   "metadata": {
    "colab": {
     "base_uri": "https://localhost:8080/",
     "height": 34
    },
    "colab_type": "code",
    "id": "0UF20QgdKDrh",
    "outputId": "577505d7-ea9b-48d1-8a5d-f3daa445a118"
   },
   "outputs": [
    {
     "data": {
      "text/plain": [
       "['7327624', 2]"
      ]
     },
     "execution_count": 105,
     "metadata": {
      "tags": []
     },
     "output_type": "execute_result"
    }
   ],
   "source": [
    "genres[2]"
   ]
  },
  {
   "cell_type": "code",
   "execution_count": 0,
   "metadata": {
    "colab": {},
    "colab_type": "code",
    "id": "T5On3Pd1KNvl"
   },
   "outputs": [],
   "source": [
    "books_genre=pd.DataFrame(genres)"
   ]
  },
  {
   "cell_type": "code",
   "execution_count": 107,
   "metadata": {
    "colab": {
     "base_uri": "https://localhost:8080/",
     "height": 34
    },
    "colab_type": "code",
    "id": "IoVnaUcjK1wy",
    "outputId": "2fc6c1f1-c704-4454-97fc-1eefa855ea5a"
   },
   "outputs": [
    {
     "data": {
      "text/plain": [
       "60910"
      ]
     },
     "execution_count": 107,
     "metadata": {
      "tags": []
     },
     "output_type": "execute_result"
    }
   ],
   "source": [
    "len(books_genre)"
   ]
  },
  {
   "cell_type": "code",
   "execution_count": 0,
   "metadata": {
    "colab": {},
    "colab_type": "code",
    "id": "iJ1V4mI4Ovky"
   },
   "outputs": [],
   "source": [
    "books_genre.columns=[\"book_id\",\"genre_id\"]"
   ]
  },
  {
   "cell_type": "code",
   "execution_count": 0,
   "metadata": {
    "colab": {},
    "colab_type": "code",
    "id": "nDH69g11K3wz"
   },
   "outputs": [],
   "source": [
    "books_genre.to_csv(\"books_genre.csv\")"
   ]
  },
  {
   "cell_type": "markdown",
   "metadata": {},
   "source": [
    "## Created Book_ID to Genre_ID Mapping"
   ]
  },
  {
   "cell_type": "code",
   "execution_count": 110,
   "metadata": {
    "colab": {
     "base_uri": "https://localhost:8080/",
     "height": 419
    },
    "colab_type": "code",
    "id": "FzZTQPH5K-Qb",
    "outputId": "89342532-dd69-4a67-ddb9-0c00f805e847"
   },
   "outputs": [
    {
     "data": {
      "text/html": [
       "<div>\n",
       "<style scoped>\n",
       "    .dataframe tbody tr th:only-of-type {\n",
       "        vertical-align: middle;\n",
       "    }\n",
       "\n",
       "    .dataframe tbody tr th {\n",
       "        vertical-align: top;\n",
       "    }\n",
       "\n",
       "    .dataframe thead th {\n",
       "        text-align: right;\n",
       "    }\n",
       "</style>\n",
       "<table border=\"1\" class=\"dataframe\">\n",
       "  <thead>\n",
       "    <tr style=\"text-align: right;\">\n",
       "      <th></th>\n",
       "      <th>book_id</th>\n",
       "      <th>genre_id</th>\n",
       "    </tr>\n",
       "  </thead>\n",
       "  <tbody>\n",
       "    <tr>\n",
       "      <th>0</th>\n",
       "      <td>7327624</td>\n",
       "      <td>3</td>\n",
       "    </tr>\n",
       "    <tr>\n",
       "      <th>1</th>\n",
       "      <td>7327624</td>\n",
       "      <td>7</td>\n",
       "    </tr>\n",
       "    <tr>\n",
       "      <th>2</th>\n",
       "      <td>7327624</td>\n",
       "      <td>2</td>\n",
       "    </tr>\n",
       "    <tr>\n",
       "      <th>3</th>\n",
       "      <td>7327624</td>\n",
       "      <td>10</td>\n",
       "    </tr>\n",
       "    <tr>\n",
       "      <th>4</th>\n",
       "      <td>89376</td>\n",
       "      <td>1</td>\n",
       "    </tr>\n",
       "    <tr>\n",
       "      <th>...</th>\n",
       "      <td>...</td>\n",
       "      <td>...</td>\n",
       "    </tr>\n",
       "    <tr>\n",
       "      <th>60905</th>\n",
       "      <td>12960440</td>\n",
       "      <td>7</td>\n",
       "    </tr>\n",
       "    <tr>\n",
       "      <th>60906</th>\n",
       "      <td>27160030</td>\n",
       "      <td>9</td>\n",
       "    </tr>\n",
       "    <tr>\n",
       "      <th>60907</th>\n",
       "      <td>27160030</td>\n",
       "      <td>6</td>\n",
       "    </tr>\n",
       "    <tr>\n",
       "      <th>60908</th>\n",
       "      <td>27160030</td>\n",
       "      <td>7</td>\n",
       "    </tr>\n",
       "    <tr>\n",
       "      <th>60909</th>\n",
       "      <td>27160030</td>\n",
       "      <td>3</td>\n",
       "    </tr>\n",
       "  </tbody>\n",
       "</table>\n",
       "<p>60910 rows × 2 columns</p>\n",
       "</div>"
      ],
      "text/plain": [
       "        book_id  genre_id\n",
       "0       7327624         3\n",
       "1       7327624         7\n",
       "2       7327624         2\n",
       "3       7327624        10\n",
       "4         89376         1\n",
       "...         ...       ...\n",
       "60905  12960440         7\n",
       "60906  27160030         9\n",
       "60907  27160030         6\n",
       "60908  27160030         7\n",
       "60909  27160030         3\n",
       "\n",
       "[60910 rows x 2 columns]"
      ]
     },
     "execution_count": 110,
     "metadata": {
      "tags": []
     },
     "output_type": "execute_result"
    }
   ],
   "source": [
    "books_genre"
   ]
  },
  {
   "cell_type": "code",
   "execution_count": 0,
   "metadata": {
    "colab": {},
    "colab_type": "code",
    "id": "nD87ya5CLVqI"
   },
   "outputs": [],
   "source": [
    "genre_map=pd.DataFrame(new_dict.items(),columns=[\"id\",\"name\"])"
   ]
  },
  {
   "cell_type": "code",
   "execution_count": 112,
   "metadata": {
    "colab": {
     "base_uri": "https://localhost:8080/",
     "height": 359
    },
    "colab_type": "code",
    "id": "6Kt6mmcoP87W",
    "outputId": "0678c849-f16d-4155-a338-92eb3e24f5e5"
   },
   "outputs": [
    {
     "data": {
      "text/html": [
       "<div>\n",
       "<style scoped>\n",
       "    .dataframe tbody tr th:only-of-type {\n",
       "        vertical-align: middle;\n",
       "    }\n",
       "\n",
       "    .dataframe tbody tr th {\n",
       "        vertical-align: top;\n",
       "    }\n",
       "\n",
       "    .dataframe thead th {\n",
       "        text-align: right;\n",
       "    }\n",
       "</style>\n",
       "<table border=\"1\" class=\"dataframe\">\n",
       "  <thead>\n",
       "    <tr style=\"text-align: right;\">\n",
       "      <th></th>\n",
       "      <th>id</th>\n",
       "      <th>name</th>\n",
       "    </tr>\n",
       "  </thead>\n",
       "  <tbody>\n",
       "    <tr>\n",
       "      <th>0</th>\n",
       "      <td>1</td>\n",
       "      <td>non-fiction</td>\n",
       "    </tr>\n",
       "    <tr>\n",
       "      <th>1</th>\n",
       "      <td>2</td>\n",
       "      <td>mystery, thriller, crime</td>\n",
       "    </tr>\n",
       "    <tr>\n",
       "      <th>2</th>\n",
       "      <td>3</td>\n",
       "      <td>fantasy, paranormal</td>\n",
       "    </tr>\n",
       "    <tr>\n",
       "      <th>3</th>\n",
       "      <td>4</td>\n",
       "      <td>young-adult</td>\n",
       "    </tr>\n",
       "    <tr>\n",
       "      <th>4</th>\n",
       "      <td>5</td>\n",
       "      <td>comics, graphic</td>\n",
       "    </tr>\n",
       "    <tr>\n",
       "      <th>5</th>\n",
       "      <td>6</td>\n",
       "      <td>history, historical fiction, biography</td>\n",
       "    </tr>\n",
       "    <tr>\n",
       "      <th>6</th>\n",
       "      <td>7</td>\n",
       "      <td>fiction</td>\n",
       "    </tr>\n",
       "    <tr>\n",
       "      <th>7</th>\n",
       "      <td>8</td>\n",
       "      <td>children</td>\n",
       "    </tr>\n",
       "    <tr>\n",
       "      <th>8</th>\n",
       "      <td>9</td>\n",
       "      <td>romance</td>\n",
       "    </tr>\n",
       "    <tr>\n",
       "      <th>9</th>\n",
       "      <td>10</td>\n",
       "      <td>poetry</td>\n",
       "    </tr>\n",
       "  </tbody>\n",
       "</table>\n",
       "</div>"
      ],
      "text/plain": [
       "   id                                    name\n",
       "0   1                             non-fiction\n",
       "1   2                mystery, thriller, crime\n",
       "2   3                     fantasy, paranormal\n",
       "3   4                             young-adult\n",
       "4   5                         comics, graphic\n",
       "5   6  history, historical fiction, biography\n",
       "6   7                                 fiction\n",
       "7   8                                children\n",
       "8   9                                 romance\n",
       "9  10                                  poetry"
      ]
     },
     "execution_count": 112,
     "metadata": {
      "tags": []
     },
     "output_type": "execute_result"
    }
   ],
   "source": [
    "genre_map"
   ]
  },
  {
   "cell_type": "code",
   "execution_count": 0,
   "metadata": {
    "colab": {},
    "colab_type": "code",
    "id": "T8K45-RYP-Jt"
   },
   "outputs": [],
   "source": [
    "genre_map.to_csv(\"genre_map.csv\")"
   ]
  },
  {
   "cell_type": "code",
   "execution_count": 0,
   "metadata": {
    "colab": {},
    "colab_type": "code",
    "id": "0JNs6XeeQJYn"
   },
   "outputs": [],
   "source": [
    "https://drive.google.com/uc?id=19cdwyXwfXx_HDIgxXaHzH0mrx8nMyLvC"
   ]
  },
  {
   "cell_type": "markdown",
   "metadata": {},
   "source": [
    "### Downloading UCSD Author Dataset"
   ]
  },
  {
   "cell_type": "code",
   "execution_count": 114,
   "metadata": {
    "colab": {
     "base_uri": "https://localhost:8080/",
     "height": 445
    },
    "colab_type": "code",
    "id": "2JwfqRi_p8ro",
    "outputId": "31d55a95-4916-4e55-da28-f15e713ea0b6"
   },
   "outputs": [
    {
     "name": "stdout",
     "output_type": "stream",
     "text": [
      "--2020-04-20 10:03:11--  https://docs.google.com/uc?export=download&confirm=&id=19cdwyXwfXx_HDIgxXaHzH0mrx8nMyLvC\n",
      "Resolving docs.google.com (docs.google.com)... 64.233.170.113, 64.233.170.138, 64.233.170.139, ...\n",
      "Connecting to docs.google.com (docs.google.com)|64.233.170.113|:443... connected.\n",
      "HTTP request sent, awaiting response... 302 Moved Temporarily\n",
      "Location: https://doc-14-50-docs.googleusercontent.com/docs/securesc/3l8t91m0ngb72srmutus63kbhgdtqvff/1b3udurk0nugjiakk4speckvbirt6k02/1587376950000/02073811625855954957/17440007148545228807Z/19cdwyXwfXx_HDIgxXaHzH0mrx8nMyLvC?e=download [following]\n",
      "--2020-04-20 10:03:13--  https://doc-14-50-docs.googleusercontent.com/docs/securesc/3l8t91m0ngb72srmutus63kbhgdtqvff/1b3udurk0nugjiakk4speckvbirt6k02/1587376950000/02073811625855954957/17440007148545228807Z/19cdwyXwfXx_HDIgxXaHzH0mrx8nMyLvC?e=download\n",
      "Resolving doc-14-50-docs.googleusercontent.com (doc-14-50-docs.googleusercontent.com)... 172.217.203.132, 2607:f8b0:400c:c07::84\n",
      "Connecting to doc-14-50-docs.googleusercontent.com (doc-14-50-docs.googleusercontent.com)|172.217.203.132|:443... connected.\n",
      "HTTP request sent, awaiting response... 302 Found\n",
      "Location: https://docs.google.com/nonceSigner?nonce=u38rpbj8rmtvc&continue=https://doc-14-50-docs.googleusercontent.com/docs/securesc/3l8t91m0ngb72srmutus63kbhgdtqvff/1b3udurk0nugjiakk4speckvbirt6k02/1587376950000/02073811625855954957/17440007148545228807Z/19cdwyXwfXx_HDIgxXaHzH0mrx8nMyLvC?e%3Ddownload&hash=q626nfjbojh8a1lq626gvthj7o7t1vkq [following]\n",
      "--2020-04-20 10:03:13--  https://docs.google.com/nonceSigner?nonce=u38rpbj8rmtvc&continue=https://doc-14-50-docs.googleusercontent.com/docs/securesc/3l8t91m0ngb72srmutus63kbhgdtqvff/1b3udurk0nugjiakk4speckvbirt6k02/1587376950000/02073811625855954957/17440007148545228807Z/19cdwyXwfXx_HDIgxXaHzH0mrx8nMyLvC?e%3Ddownload&hash=q626nfjbojh8a1lq626gvthj7o7t1vkq\n",
      "Connecting to docs.google.com (docs.google.com)|64.233.170.113|:443... connected.\n",
      "HTTP request sent, awaiting response... 302 Found\n",
      "Location: https://doc-14-50-docs.googleusercontent.com/docs/securesc/3l8t91m0ngb72srmutus63kbhgdtqvff/1b3udurk0nugjiakk4speckvbirt6k02/1587376950000/02073811625855954957/17440007148545228807Z/19cdwyXwfXx_HDIgxXaHzH0mrx8nMyLvC?e=download&nonce=u38rpbj8rmtvc&user=17440007148545228807Z&hash=1cba203sdg61lffgkraetkgtboh0qaht [following]\n",
      "--2020-04-20 10:03:13--  https://doc-14-50-docs.googleusercontent.com/docs/securesc/3l8t91m0ngb72srmutus63kbhgdtqvff/1b3udurk0nugjiakk4speckvbirt6k02/1587376950000/02073811625855954957/17440007148545228807Z/19cdwyXwfXx_HDIgxXaHzH0mrx8nMyLvC?e=download&nonce=u38rpbj8rmtvc&user=17440007148545228807Z&hash=1cba203sdg61lffgkraetkgtboh0qaht\n",
      "Connecting to doc-14-50-docs.googleusercontent.com (doc-14-50-docs.googleusercontent.com)|172.217.203.132|:443... connected.\n",
      "HTTP request sent, awaiting response... 200 OK\n",
      "Length: unspecified [application/gzip]\n",
      "Saving to: ‘goodreads_book_authors.json.gz’\n",
      "\n",
      "goodreads_book_auth     [ <=>                ]  17.05M  --.-KB/s    in 0.1s    \n",
      "\n",
      "2020-04-20 10:03:13 (177 MB/s) - ‘goodreads_book_authors.json.gz’ saved [17875063]\n",
      "\n"
     ]
    }
   ],
   "source": [
    "!wget --load-cookies /tmp/cookies.txt \"https://docs.google.com/uc?export=download&confirm=$(wget --quiet --save-cookies /tmp/cookies.txt --keep-session-cookies --no-check-certificate 'https://docs.google.com/uc?export=download&id=19cdwyXwfXx_HDIgxXaHzH0mrx8nMyLvC' -O- | sed -rn 's/.*confirm=([0-9A-Za-z_]+).*/\\1\\n/p')&id=19cdwyXwfXx_HDIgxXaHzH0mrx8nMyLvC\" -O goodreads_book_authors.json.gz && rm -rf /tmp/cookies.txt"
   ]
  },
  {
   "cell_type": "code",
   "execution_count": 0,
   "metadata": {
    "colab": {},
    "colab_type": "code",
    "id": "hk8le902p8pX"
   },
   "outputs": [],
   "source": [
    "!gunzip goodreads_book_authors.json.gz"
   ]
  },
  {
   "cell_type": "code",
   "execution_count": 0,
   "metadata": {
    "colab": {},
    "colab_type": "code",
    "id": "VNBUUt3zqWoF"
   },
   "outputs": [],
   "source": [
    "import pandas as pd\n",
    "import json\n",
    "with open('goodreads_book_authors.json') as json_file:      \n",
    "    data2 = json_file.readlines()\n",
    "    data2 = list(map(json.loads, data2)) \n",
    "\n",
    "df4=pd.DataFrame(data2)"
   ]
  },
  {
   "cell_type": "code",
   "execution_count": 117,
   "metadata": {
    "colab": {
     "base_uri": "https://localhost:8080/",
     "height": 581
    },
    "colab_type": "code",
    "id": "8q3lx6d-sk5n",
    "outputId": "f87e3f34-a750-4070-c861-fba3cd3241b8"
   },
   "outputs": [
    {
     "data": {
      "text/html": [
       "<div>\n",
       "<style scoped>\n",
       "    .dataframe tbody tr th:only-of-type {\n",
       "        vertical-align: middle;\n",
       "    }\n",
       "\n",
       "    .dataframe tbody tr th {\n",
       "        vertical-align: top;\n",
       "    }\n",
       "\n",
       "    .dataframe thead th {\n",
       "        text-align: right;\n",
       "    }\n",
       "</style>\n",
       "<table border=\"1\" class=\"dataframe\">\n",
       "  <thead>\n",
       "    <tr style=\"text-align: right;\">\n",
       "      <th></th>\n",
       "      <th>isbn</th>\n",
       "      <th>text_reviews_count</th>\n",
       "      <th>series</th>\n",
       "      <th>country_code</th>\n",
       "      <th>language_code</th>\n",
       "      <th>popular_shelves</th>\n",
       "      <th>asin</th>\n",
       "      <th>is_ebook</th>\n",
       "      <th>average_rating</th>\n",
       "      <th>kindle_asin</th>\n",
       "      <th>similar_books</th>\n",
       "      <th>description</th>\n",
       "      <th>format</th>\n",
       "      <th>link</th>\n",
       "      <th>authors</th>\n",
       "      <th>publisher</th>\n",
       "      <th>num_pages</th>\n",
       "      <th>publication_day</th>\n",
       "      <th>isbn13</th>\n",
       "      <th>publication_month</th>\n",
       "      <th>edition_information</th>\n",
       "      <th>publication_year</th>\n",
       "      <th>url</th>\n",
       "      <th>image_url</th>\n",
       "      <th>book_id</th>\n",
       "      <th>ratings_count</th>\n",
       "      <th>work_id</th>\n",
       "      <th>title</th>\n",
       "      <th>title_without_series</th>\n",
       "    </tr>\n",
       "  </thead>\n",
       "  <tbody>\n",
       "    <tr>\n",
       "      <th>0</th>\n",
       "      <td></td>\n",
       "      <td>7</td>\n",
       "      <td>[189911]</td>\n",
       "      <td>US</td>\n",
       "      <td>eng</td>\n",
       "      <td>[{'count': '58', 'name': 'to-read'}, {'count':...</td>\n",
       "      <td>B00071IKUY</td>\n",
       "      <td>false</td>\n",
       "      <td>4.03</td>\n",
       "      <td></td>\n",
       "      <td>[19997, 828466, 1569323, 425389, 1176674, 2627...</td>\n",
       "      <td>Omnibus book club edition containing the Ladie...</td>\n",
       "      <td>Hardcover</td>\n",
       "      <td>https://www.goodreads.com/book/show/7327624-th...</td>\n",
       "      <td>[{'author_id': '10333', 'role': ''}]</td>\n",
       "      <td>Nelson Doubleday, Inc.</td>\n",
       "      <td>600</td>\n",
       "      <td></td>\n",
       "      <td></td>\n",
       "      <td></td>\n",
       "      <td>Book Club Edition</td>\n",
       "      <td>1987</td>\n",
       "      <td>https://www.goodreads.com/book/show/7327624-th...</td>\n",
       "      <td>https://images.gr-assets.com/books/1304100136m...</td>\n",
       "      <td>7327624</td>\n",
       "      <td>140</td>\n",
       "      <td>8948723</td>\n",
       "      <td>The Unschooled Wizard (Sun Wolf and Starhawk, ...</td>\n",
       "      <td>The Unschooled Wizard (Sun Wolf and Starhawk, ...</td>\n",
       "    </tr>\n",
       "    <tr>\n",
       "      <th>1</th>\n",
       "      <td>0842379428</td>\n",
       "      <td>566</td>\n",
       "      <td>[]</td>\n",
       "      <td>US</td>\n",
       "      <td>eng</td>\n",
       "      <td>[{'count': '6393', 'name': 'to-read'}, {'count...</td>\n",
       "      <td></td>\n",
       "      <td>false</td>\n",
       "      <td>4.26</td>\n",
       "      <td>B000FCKCJC</td>\n",
       "      <td>[45366, 246849, 11096385, 19102466, 761197, 11...</td>\n",
       "      <td>What is Heaven really going to be like? What w...</td>\n",
       "      <td></td>\n",
       "      <td>https://www.goodreads.com/book/show/89376.Heaven</td>\n",
       "      <td>[{'author_id': '4862', 'role': ''}]</td>\n",
       "      <td></td>\n",
       "      <td>533</td>\n",
       "      <td></td>\n",
       "      <td>9780842379427</td>\n",
       "      <td></td>\n",
       "      <td></td>\n",
       "      <td></td>\n",
       "      <td>https://www.goodreads.com/book/show/89376.Heaven</td>\n",
       "      <td>https://images.gr-assets.com/books/1406508230m...</td>\n",
       "      <td>89376</td>\n",
       "      <td>7345</td>\n",
       "      <td>86257</td>\n",
       "      <td>Heaven</td>\n",
       "      <td>Heaven</td>\n",
       "    </tr>\n",
       "    <tr>\n",
       "      <th>2</th>\n",
       "      <td>0590417010</td>\n",
       "      <td>193</td>\n",
       "      <td>[]</td>\n",
       "      <td>US</td>\n",
       "      <td>eng</td>\n",
       "      <td>[{'count': '450', 'name': 'to-read'}, {'count'...</td>\n",
       "      <td></td>\n",
       "      <td>false</td>\n",
       "      <td>4.43</td>\n",
       "      <td>B017RORXNI</td>\n",
       "      <td>[834493, 452189, 140185, 1897316, 2189812, 424...</td>\n",
       "      <td>In Newbery Medalist Cynthia Rylant's classic b...</td>\n",
       "      <td>Hardcover</td>\n",
       "      <td>https://www.goodreads.com/book/show/89378.Dog_...</td>\n",
       "      <td>[{'author_id': '5411', 'role': ''}]</td>\n",
       "      <td>Blue Sky Press</td>\n",
       "      <td>40</td>\n",
       "      <td>1</td>\n",
       "      <td>9780590417013</td>\n",
       "      <td>9</td>\n",
       "      <td></td>\n",
       "      <td>1995</td>\n",
       "      <td>https://www.goodreads.com/book/show/89378.Dog_...</td>\n",
       "      <td>https://images.gr-assets.com/books/1360057676m...</td>\n",
       "      <td>89378</td>\n",
       "      <td>1331</td>\n",
       "      <td>86259</td>\n",
       "      <td>Dog Heaven</td>\n",
       "      <td>Dog Heaven</td>\n",
       "    </tr>\n",
       "    <tr>\n",
       "      <th>3</th>\n",
       "      <td></td>\n",
       "      <td>15</td>\n",
       "      <td>[]</td>\n",
       "      <td>US</td>\n",
       "      <td>eng</td>\n",
       "      <td>[{'count': '1492', 'name': 'to-read'}, {'count...</td>\n",
       "      <td>B013Q70BQG</td>\n",
       "      <td>true</td>\n",
       "      <td>3.98</td>\n",
       "      <td>B013Q70BQG</td>\n",
       "      <td>[386097, 7774253, 576667, 471907, 43174, 38977...</td>\n",
       "      <td>You've Got Mailmeets Julie &amp; Juliain the new f...</td>\n",
       "      <td></td>\n",
       "      <td>https://www.goodreads.com/book/show/27419760-w...</td>\n",
       "      <td>[{'author_id': '47231', 'role': ''}]</td>\n",
       "      <td></td>\n",
       "      <td></td>\n",
       "      <td></td>\n",
       "      <td></td>\n",
       "      <td></td>\n",
       "      <td></td>\n",
       "      <td></td>\n",
       "      <td>https://www.goodreads.com/book/show/27419760-w...</td>\n",
       "      <td>https://images.gr-assets.com/books/1457306424m...</td>\n",
       "      <td>27419760</td>\n",
       "      <td>167</td>\n",
       "      <td>46003673</td>\n",
       "      <td>Wedding Girl</td>\n",
       "      <td>Wedding Girl</td>\n",
       "    </tr>\n",
       "    <tr>\n",
       "      <th>4</th>\n",
       "      <td></td>\n",
       "      <td>5</td>\n",
       "      <td>[246830, 362583, 362581, 623032]</td>\n",
       "      <td>US</td>\n",
       "      <td>eng</td>\n",
       "      <td>[{'count': '493', 'name': 'to-read'}, {'count'...</td>\n",
       "      <td></td>\n",
       "      <td>false</td>\n",
       "      <td>4.28</td>\n",
       "      <td></td>\n",
       "      <td>[13590139, 105963, 207585, 10503130, 4645370, ...</td>\n",
       "      <td>The questions plaguing Captain America's dream...</td>\n",
       "      <td>Hardcover</td>\n",
       "      <td>https://www.goodreads.com/book/show/13571772-c...</td>\n",
       "      <td>[{'author_id': '37450', 'role': ''}]</td>\n",
       "      <td>Hachette Partworks Ltd.</td>\n",
       "      <td>146</td>\n",
       "      <td></td>\n",
       "      <td></td>\n",
       "      <td></td>\n",
       "      <td></td>\n",
       "      <td>2012</td>\n",
       "      <td>https://www.goodreads.com/book/show/13571772-c...</td>\n",
       "      <td>https://images.gr-assets.com/books/1333287305m...</td>\n",
       "      <td>13571772</td>\n",
       "      <td>51</td>\n",
       "      <td>102217</td>\n",
       "      <td>Captain America: Winter Soldier (The Ultimate ...</td>\n",
       "      <td>Captain America: Winter Soldier (The Ultimate ...</td>\n",
       "    </tr>\n",
       "  </tbody>\n",
       "</table>\n",
       "</div>"
      ],
      "text/plain": [
       "         isbn  ...                               title_without_series\n",
       "0              ...  The Unschooled Wizard (Sun Wolf and Starhawk, ...\n",
       "1  0842379428  ...                                             Heaven\n",
       "2  0590417010  ...                                         Dog Heaven\n",
       "3              ...                                       Wedding Girl\n",
       "4              ...  Captain America: Winter Soldier (The Ultimate ...\n",
       "\n",
       "[5 rows x 29 columns]"
      ]
     },
     "execution_count": 117,
     "metadata": {
      "tags": []
     },
     "output_type": "execute_result"
    }
   ],
   "source": [
    "df3.head()"
   ]
  },
  {
   "cell_type": "code",
   "execution_count": 118,
   "metadata": {
    "colab": {
     "base_uri": "https://localhost:8080/",
     "height": 204
    },
    "colab_type": "code",
    "id": "BHkMyVijsn8D",
    "outputId": "06406f20-fb0f-4509-a3b7-afc1685a2855"
   },
   "outputs": [
    {
     "data": {
      "text/html": [
       "<div>\n",
       "<style scoped>\n",
       "    .dataframe tbody tr th:only-of-type {\n",
       "        vertical-align: middle;\n",
       "    }\n",
       "\n",
       "    .dataframe tbody tr th {\n",
       "        vertical-align: top;\n",
       "    }\n",
       "\n",
       "    .dataframe thead th {\n",
       "        text-align: right;\n",
       "    }\n",
       "</style>\n",
       "<table border=\"1\" class=\"dataframe\">\n",
       "  <thead>\n",
       "    <tr style=\"text-align: right;\">\n",
       "      <th></th>\n",
       "      <th>average_rating</th>\n",
       "      <th>author_id</th>\n",
       "      <th>text_reviews_count</th>\n",
       "      <th>name</th>\n",
       "      <th>ratings_count</th>\n",
       "    </tr>\n",
       "  </thead>\n",
       "  <tbody>\n",
       "    <tr>\n",
       "      <th>0</th>\n",
       "      <td>3.98</td>\n",
       "      <td>604031</td>\n",
       "      <td>7</td>\n",
       "      <td>Ronald J. Fields</td>\n",
       "      <td>49</td>\n",
       "    </tr>\n",
       "    <tr>\n",
       "      <th>1</th>\n",
       "      <td>4.08</td>\n",
       "      <td>626222</td>\n",
       "      <td>28716</td>\n",
       "      <td>Anita Diamant</td>\n",
       "      <td>546796</td>\n",
       "    </tr>\n",
       "    <tr>\n",
       "      <th>2</th>\n",
       "      <td>3.92</td>\n",
       "      <td>10333</td>\n",
       "      <td>5075</td>\n",
       "      <td>Barbara Hambly</td>\n",
       "      <td>122118</td>\n",
       "    </tr>\n",
       "    <tr>\n",
       "      <th>3</th>\n",
       "      <td>3.68</td>\n",
       "      <td>9212</td>\n",
       "      <td>36262</td>\n",
       "      <td>Jennifer Weiner</td>\n",
       "      <td>888522</td>\n",
       "    </tr>\n",
       "    <tr>\n",
       "      <th>4</th>\n",
       "      <td>3.82</td>\n",
       "      <td>149918</td>\n",
       "      <td>96</td>\n",
       "      <td>Nigel Pennick</td>\n",
       "      <td>1740</td>\n",
       "    </tr>\n",
       "  </tbody>\n",
       "</table>\n",
       "</div>"
      ],
      "text/plain": [
       "  average_rating author_id text_reviews_count              name ratings_count\n",
       "0           3.98    604031                  7  Ronald J. Fields            49\n",
       "1           4.08    626222              28716     Anita Diamant        546796\n",
       "2           3.92     10333               5075    Barbara Hambly        122118\n",
       "3           3.68      9212              36262   Jennifer Weiner        888522\n",
       "4           3.82    149918                 96     Nigel Pennick          1740"
      ]
     },
     "execution_count": 118,
     "metadata": {
      "tags": []
     },
     "output_type": "execute_result"
    }
   ],
   "source": [
    "df4.head()"
   ]
  },
  {
   "cell_type": "code",
   "execution_count": 119,
   "metadata": {
    "colab": {
     "base_uri": "https://localhost:8080/",
     "height": 34
    },
    "colab_type": "code",
    "id": "N7S8N2EzssxL",
    "outputId": "d7789203-3dfb-4725-b71c-224a893701db"
   },
   "outputs": [
    {
     "data": {
      "text/plain": [
       "829529"
      ]
     },
     "execution_count": 119,
     "metadata": {
      "tags": []
     },
     "output_type": "execute_result"
    }
   ],
   "source": [
    "len(df4)"
   ]
  },
  {
   "cell_type": "code",
   "execution_count": 0,
   "metadata": {
    "colab": {},
    "colab_type": "code",
    "id": "iD69-f7Husdk"
   },
   "outputs": [],
   "source": [
    "author_id=list(df4[\"author_id\"])\n",
    "author_name=list(df4[\"name\"])"
   ]
  },
  {
   "cell_type": "code",
   "execution_count": 0,
   "metadata": {
    "colab": {},
    "colab_type": "code",
    "id": "Kq6HZZuSs0ha"
   },
   "outputs": [],
   "source": [
    "author=list(df3[\"authors\"])"
   ]
  },
  {
   "cell_type": "code",
   "execution_count": 122,
   "metadata": {
    "colab": {
     "base_uri": "https://localhost:8080/",
     "height": 34
    },
    "colab_type": "code",
    "id": "sFOchNdOs55p",
    "outputId": "f071823f-5abf-4db5-cb31-cf40cbd32cda"
   },
   "outputs": [
    {
     "data": {
      "text/plain": [
       "[{'author_id': '37450', 'role': ''}]"
      ]
     },
     "execution_count": 122,
     "metadata": {
      "tags": []
     },
     "output_type": "execute_result"
    }
   ],
   "source": [
    "author[4]"
   ]
  },
  {
   "cell_type": "code",
   "execution_count": 0,
   "metadata": {
    "colab": {},
    "colab_type": "code",
    "id": "sIcuUAs7tGdd"
   },
   "outputs": [],
   "source": [
    "author1=[]\n",
    "name=[]\n",
    "for i in author:\n",
    "  n=[]\n",
    "  for j in i:\n",
    "    for k in j.keys():\n",
    "      if k=='author_id':\n",
    "        l=author_id.index(j[k])\n",
    "        m=author_name[l]\n",
    "        n.append(m)\n",
    "  name.append(n)"
   ]
  },
  {
   "cell_type": "code",
   "execution_count": 124,
   "metadata": {
    "colab": {
     "base_uri": "https://localhost:8080/",
     "height": 34
    },
    "colab_type": "code",
    "id": "cCbmw3LQvWds",
    "outputId": "0ffe60bf-b6f2-477c-b9e9-fa5a3ddcb275"
   },
   "outputs": [
    {
     "data": {
      "text/plain": [
       "19682"
      ]
     },
     "execution_count": 124,
     "metadata": {
      "tags": []
     },
     "output_type": "execute_result"
    }
   ],
   "source": [
    "len(name)"
   ]
  },
  {
   "cell_type": "code",
   "execution_count": 0,
   "metadata": {
    "colab": {},
    "colab_type": "code",
    "id": "RDvZs4FqvziW"
   },
   "outputs": [],
   "source": [
    "ind=[]\n",
    "for i in name:\n",
    "  if len(i)>1:\n",
    "    ind.append(name.index(i))"
   ]
  },
  {
   "cell_type": "code",
   "execution_count": 126,
   "metadata": {
    "colab": {
     "base_uri": "https://localhost:8080/",
     "height": 34
    },
    "colab_type": "code",
    "id": "3goneuqmwi2p",
    "outputId": "a729c305-1e6f-408b-af60-ecff169eac26"
   },
   "outputs": [
    {
     "data": {
      "text/plain": [
       "['Douglas Preston', 'Lincoln Child']"
      ]
     },
     "execution_count": 126,
     "metadata": {
      "tags": []
     },
     "output_type": "execute_result"
    }
   ],
   "source": [
    "name[9]"
   ]
  },
  {
   "cell_type": "markdown",
   "metadata": {},
   "source": [
    "## Changing the Author column dictionaries to Author names"
   ]
  },
  {
   "cell_type": "code",
   "execution_count": 0,
   "metadata": {
    "colab": {},
    "colab_type": "code",
    "id": "Kig4AipNwqnV"
   },
   "outputs": [],
   "source": [
    "df3[\"authors\"]=name"
   ]
  },
  {
   "cell_type": "code",
   "execution_count": 128,
   "metadata": {
    "colab": {
     "base_uri": "https://localhost:8080/",
     "height": 581
    },
    "colab_type": "code",
    "id": "Ly70Zc7Jw3nJ",
    "outputId": "4c92e28e-7ae3-4ddf-df66-7b9d4f711461"
   },
   "outputs": [
    {
     "data": {
      "text/html": [
       "<div>\n",
       "<style scoped>\n",
       "    .dataframe tbody tr th:only-of-type {\n",
       "        vertical-align: middle;\n",
       "    }\n",
       "\n",
       "    .dataframe tbody tr th {\n",
       "        vertical-align: top;\n",
       "    }\n",
       "\n",
       "    .dataframe thead th {\n",
       "        text-align: right;\n",
       "    }\n",
       "</style>\n",
       "<table border=\"1\" class=\"dataframe\">\n",
       "  <thead>\n",
       "    <tr style=\"text-align: right;\">\n",
       "      <th></th>\n",
       "      <th>isbn</th>\n",
       "      <th>text_reviews_count</th>\n",
       "      <th>series</th>\n",
       "      <th>country_code</th>\n",
       "      <th>language_code</th>\n",
       "      <th>popular_shelves</th>\n",
       "      <th>asin</th>\n",
       "      <th>is_ebook</th>\n",
       "      <th>average_rating</th>\n",
       "      <th>kindle_asin</th>\n",
       "      <th>similar_books</th>\n",
       "      <th>description</th>\n",
       "      <th>format</th>\n",
       "      <th>link</th>\n",
       "      <th>authors</th>\n",
       "      <th>publisher</th>\n",
       "      <th>num_pages</th>\n",
       "      <th>publication_day</th>\n",
       "      <th>isbn13</th>\n",
       "      <th>publication_month</th>\n",
       "      <th>edition_information</th>\n",
       "      <th>publication_year</th>\n",
       "      <th>url</th>\n",
       "      <th>image_url</th>\n",
       "      <th>book_id</th>\n",
       "      <th>ratings_count</th>\n",
       "      <th>work_id</th>\n",
       "      <th>title</th>\n",
       "      <th>title_without_series</th>\n",
       "    </tr>\n",
       "  </thead>\n",
       "  <tbody>\n",
       "    <tr>\n",
       "      <th>0</th>\n",
       "      <td></td>\n",
       "      <td>7</td>\n",
       "      <td>[189911]</td>\n",
       "      <td>US</td>\n",
       "      <td>eng</td>\n",
       "      <td>[{'count': '58', 'name': 'to-read'}, {'count':...</td>\n",
       "      <td>B00071IKUY</td>\n",
       "      <td>false</td>\n",
       "      <td>4.03</td>\n",
       "      <td></td>\n",
       "      <td>[19997, 828466, 1569323, 425389, 1176674, 2627...</td>\n",
       "      <td>Omnibus book club edition containing the Ladie...</td>\n",
       "      <td>Hardcover</td>\n",
       "      <td>https://www.goodreads.com/book/show/7327624-th...</td>\n",
       "      <td>[Barbara Hambly]</td>\n",
       "      <td>Nelson Doubleday, Inc.</td>\n",
       "      <td>600</td>\n",
       "      <td></td>\n",
       "      <td></td>\n",
       "      <td></td>\n",
       "      <td>Book Club Edition</td>\n",
       "      <td>1987</td>\n",
       "      <td>https://www.goodreads.com/book/show/7327624-th...</td>\n",
       "      <td>https://images.gr-assets.com/books/1304100136m...</td>\n",
       "      <td>7327624</td>\n",
       "      <td>140</td>\n",
       "      <td>8948723</td>\n",
       "      <td>The Unschooled Wizard (Sun Wolf and Starhawk, ...</td>\n",
       "      <td>The Unschooled Wizard (Sun Wolf and Starhawk, ...</td>\n",
       "    </tr>\n",
       "    <tr>\n",
       "      <th>1</th>\n",
       "      <td>0842379428</td>\n",
       "      <td>566</td>\n",
       "      <td>[]</td>\n",
       "      <td>US</td>\n",
       "      <td>eng</td>\n",
       "      <td>[{'count': '6393', 'name': 'to-read'}, {'count...</td>\n",
       "      <td></td>\n",
       "      <td>false</td>\n",
       "      <td>4.26</td>\n",
       "      <td>B000FCKCJC</td>\n",
       "      <td>[45366, 246849, 11096385, 19102466, 761197, 11...</td>\n",
       "      <td>What is Heaven really going to be like? What w...</td>\n",
       "      <td></td>\n",
       "      <td>https://www.goodreads.com/book/show/89376.Heaven</td>\n",
       "      <td>[Randy Alcorn]</td>\n",
       "      <td></td>\n",
       "      <td>533</td>\n",
       "      <td></td>\n",
       "      <td>9780842379427</td>\n",
       "      <td></td>\n",
       "      <td></td>\n",
       "      <td></td>\n",
       "      <td>https://www.goodreads.com/book/show/89376.Heaven</td>\n",
       "      <td>https://images.gr-assets.com/books/1406508230m...</td>\n",
       "      <td>89376</td>\n",
       "      <td>7345</td>\n",
       "      <td>86257</td>\n",
       "      <td>Heaven</td>\n",
       "      <td>Heaven</td>\n",
       "    </tr>\n",
       "    <tr>\n",
       "      <th>2</th>\n",
       "      <td>0590417010</td>\n",
       "      <td>193</td>\n",
       "      <td>[]</td>\n",
       "      <td>US</td>\n",
       "      <td>eng</td>\n",
       "      <td>[{'count': '450', 'name': 'to-read'}, {'count'...</td>\n",
       "      <td></td>\n",
       "      <td>false</td>\n",
       "      <td>4.43</td>\n",
       "      <td>B017RORXNI</td>\n",
       "      <td>[834493, 452189, 140185, 1897316, 2189812, 424...</td>\n",
       "      <td>In Newbery Medalist Cynthia Rylant's classic b...</td>\n",
       "      <td>Hardcover</td>\n",
       "      <td>https://www.goodreads.com/book/show/89378.Dog_...</td>\n",
       "      <td>[Cynthia Rylant]</td>\n",
       "      <td>Blue Sky Press</td>\n",
       "      <td>40</td>\n",
       "      <td>1</td>\n",
       "      <td>9780590417013</td>\n",
       "      <td>9</td>\n",
       "      <td></td>\n",
       "      <td>1995</td>\n",
       "      <td>https://www.goodreads.com/book/show/89378.Dog_...</td>\n",
       "      <td>https://images.gr-assets.com/books/1360057676m...</td>\n",
       "      <td>89378</td>\n",
       "      <td>1331</td>\n",
       "      <td>86259</td>\n",
       "      <td>Dog Heaven</td>\n",
       "      <td>Dog Heaven</td>\n",
       "    </tr>\n",
       "    <tr>\n",
       "      <th>3</th>\n",
       "      <td></td>\n",
       "      <td>15</td>\n",
       "      <td>[]</td>\n",
       "      <td>US</td>\n",
       "      <td>eng</td>\n",
       "      <td>[{'count': '1492', 'name': 'to-read'}, {'count...</td>\n",
       "      <td>B013Q70BQG</td>\n",
       "      <td>true</td>\n",
       "      <td>3.98</td>\n",
       "      <td>B013Q70BQG</td>\n",
       "      <td>[386097, 7774253, 576667, 471907, 43174, 38977...</td>\n",
       "      <td>You've Got Mailmeets Julie &amp; Juliain the new f...</td>\n",
       "      <td></td>\n",
       "      <td>https://www.goodreads.com/book/show/27419760-w...</td>\n",
       "      <td>[Stacey Ballis]</td>\n",
       "      <td></td>\n",
       "      <td></td>\n",
       "      <td></td>\n",
       "      <td></td>\n",
       "      <td></td>\n",
       "      <td></td>\n",
       "      <td></td>\n",
       "      <td>https://www.goodreads.com/book/show/27419760-w...</td>\n",
       "      <td>https://images.gr-assets.com/books/1457306424m...</td>\n",
       "      <td>27419760</td>\n",
       "      <td>167</td>\n",
       "      <td>46003673</td>\n",
       "      <td>Wedding Girl</td>\n",
       "      <td>Wedding Girl</td>\n",
       "    </tr>\n",
       "    <tr>\n",
       "      <th>4</th>\n",
       "      <td></td>\n",
       "      <td>5</td>\n",
       "      <td>[246830, 362583, 362581, 623032]</td>\n",
       "      <td>US</td>\n",
       "      <td>eng</td>\n",
       "      <td>[{'count': '493', 'name': 'to-read'}, {'count'...</td>\n",
       "      <td></td>\n",
       "      <td>false</td>\n",
       "      <td>4.28</td>\n",
       "      <td></td>\n",
       "      <td>[13590139, 105963, 207585, 10503130, 4645370, ...</td>\n",
       "      <td>The questions plaguing Captain America's dream...</td>\n",
       "      <td>Hardcover</td>\n",
       "      <td>https://www.goodreads.com/book/show/13571772-c...</td>\n",
       "      <td>[Ed Brubaker]</td>\n",
       "      <td>Hachette Partworks Ltd.</td>\n",
       "      <td>146</td>\n",
       "      <td></td>\n",
       "      <td></td>\n",
       "      <td></td>\n",
       "      <td></td>\n",
       "      <td>2012</td>\n",
       "      <td>https://www.goodreads.com/book/show/13571772-c...</td>\n",
       "      <td>https://images.gr-assets.com/books/1333287305m...</td>\n",
       "      <td>13571772</td>\n",
       "      <td>51</td>\n",
       "      <td>102217</td>\n",
       "      <td>Captain America: Winter Soldier (The Ultimate ...</td>\n",
       "      <td>Captain America: Winter Soldier (The Ultimate ...</td>\n",
       "    </tr>\n",
       "  </tbody>\n",
       "</table>\n",
       "</div>"
      ],
      "text/plain": [
       "         isbn  ...                               title_without_series\n",
       "0              ...  The Unschooled Wizard (Sun Wolf and Starhawk, ...\n",
       "1  0842379428  ...                                             Heaven\n",
       "2  0590417010  ...                                         Dog Heaven\n",
       "3              ...                                       Wedding Girl\n",
       "4              ...  Captain America: Winter Soldier (The Ultimate ...\n",
       "\n",
       "[5 rows x 29 columns]"
      ]
     },
     "execution_count": 128,
     "metadata": {
      "tags": []
     },
     "output_type": "execute_result"
    }
   ],
   "source": [
    "df3.head()"
   ]
  },
  {
   "cell_type": "code",
   "execution_count": 0,
   "metadata": {
    "colab": {},
    "colab_type": "code",
    "id": "M-kVR4tnw6Og"
   },
   "outputs": [],
   "source": [
    "df3.to_csv(\"books.csv\")"
   ]
  },
  {
   "cell_type": "code",
   "execution_count": 0,
   "metadata": {
    "colab": {},
    "colab_type": "code",
    "id": "bzeFGLsZxET2"
   },
   "outputs": [],
   "source": [
    "df_outer[\"authors\"]=name"
   ]
  },
  {
   "cell_type": "code",
   "execution_count": 0,
   "metadata": {
    "colab": {},
    "colab_type": "code",
    "id": "zrLhx_N-KDfH"
   },
   "outputs": [],
   "source": [
    "df_outer.to_csv(\"booksgenre.csv\")"
   ]
  },
  {
   "cell_type": "code",
   "execution_count": 133,
   "metadata": {
    "colab": {
     "base_uri": "https://localhost:8080/",
     "height": 581
    },
    "colab_type": "code",
    "id": "r264CqHHKJo_",
    "outputId": "f3ebc65f-39e3-408b-b38b-3c6a3eb657b0"
   },
   "outputs": [
    {
     "data": {
      "text/html": [
       "<div>\n",
       "<style scoped>\n",
       "    .dataframe tbody tr th:only-of-type {\n",
       "        vertical-align: middle;\n",
       "    }\n",
       "\n",
       "    .dataframe tbody tr th {\n",
       "        vertical-align: top;\n",
       "    }\n",
       "\n",
       "    .dataframe thead th {\n",
       "        text-align: right;\n",
       "    }\n",
       "</style>\n",
       "<table border=\"1\" class=\"dataframe\">\n",
       "  <thead>\n",
       "    <tr style=\"text-align: right;\">\n",
       "      <th></th>\n",
       "      <th>isbn</th>\n",
       "      <th>text_reviews_count</th>\n",
       "      <th>series</th>\n",
       "      <th>country_code</th>\n",
       "      <th>language_code</th>\n",
       "      <th>popular_shelves</th>\n",
       "      <th>asin</th>\n",
       "      <th>is_ebook</th>\n",
       "      <th>average_rating</th>\n",
       "      <th>kindle_asin</th>\n",
       "      <th>similar_books</th>\n",
       "      <th>description</th>\n",
       "      <th>format</th>\n",
       "      <th>link</th>\n",
       "      <th>authors</th>\n",
       "      <th>publisher</th>\n",
       "      <th>num_pages</th>\n",
       "      <th>publication_day</th>\n",
       "      <th>isbn13</th>\n",
       "      <th>publication_month</th>\n",
       "      <th>edition_information</th>\n",
       "      <th>publication_year</th>\n",
       "      <th>url</th>\n",
       "      <th>image_url</th>\n",
       "      <th>book_id</th>\n",
       "      <th>ratings_count</th>\n",
       "      <th>work_id</th>\n",
       "      <th>title</th>\n",
       "      <th>title_without_series</th>\n",
       "      <th>genres</th>\n",
       "    </tr>\n",
       "  </thead>\n",
       "  <tbody>\n",
       "    <tr>\n",
       "      <th>0</th>\n",
       "      <td></td>\n",
       "      <td>7</td>\n",
       "      <td>[189911]</td>\n",
       "      <td>US</td>\n",
       "      <td>eng</td>\n",
       "      <td>[{'count': '58', 'name': 'to-read'}, {'count':...</td>\n",
       "      <td>B00071IKUY</td>\n",
       "      <td>false</td>\n",
       "      <td>4.03</td>\n",
       "      <td></td>\n",
       "      <td>[19997, 828466, 1569323, 425389, 1176674, 2627...</td>\n",
       "      <td>Omnibus book club edition containing the Ladie...</td>\n",
       "      <td>Hardcover</td>\n",
       "      <td>https://www.goodreads.com/book/show/7327624-th...</td>\n",
       "      <td>[Barbara Hambly]</td>\n",
       "      <td>Nelson Doubleday, Inc.</td>\n",
       "      <td>600</td>\n",
       "      <td></td>\n",
       "      <td></td>\n",
       "      <td></td>\n",
       "      <td>Book Club Edition</td>\n",
       "      <td>1987</td>\n",
       "      <td>https://www.goodreads.com/book/show/7327624-th...</td>\n",
       "      <td>https://images.gr-assets.com/books/1304100136m...</td>\n",
       "      <td>7327624</td>\n",
       "      <td>140</td>\n",
       "      <td>8948723</td>\n",
       "      <td>The Unschooled Wizard (Sun Wolf and Starhawk, ...</td>\n",
       "      <td>The Unschooled Wizard (Sun Wolf and Starhawk, ...</td>\n",
       "      <td>{'fantasy, paranormal': 31, 'fiction': 8, 'mys...</td>\n",
       "    </tr>\n",
       "    <tr>\n",
       "      <th>1</th>\n",
       "      <td>0842379428</td>\n",
       "      <td>566</td>\n",
       "      <td>[]</td>\n",
       "      <td>US</td>\n",
       "      <td>eng</td>\n",
       "      <td>[{'count': '6393', 'name': 'to-read'}, {'count...</td>\n",
       "      <td></td>\n",
       "      <td>false</td>\n",
       "      <td>4.26</td>\n",
       "      <td>B000FCKCJC</td>\n",
       "      <td>[45366, 246849, 11096385, 19102466, 761197, 11...</td>\n",
       "      <td>What is Heaven really going to be like? What w...</td>\n",
       "      <td></td>\n",
       "      <td>https://www.goodreads.com/book/show/89376.Heaven</td>\n",
       "      <td>[Randy Alcorn]</td>\n",
       "      <td></td>\n",
       "      <td>533</td>\n",
       "      <td></td>\n",
       "      <td>9780842379427</td>\n",
       "      <td></td>\n",
       "      <td></td>\n",
       "      <td></td>\n",
       "      <td>https://www.goodreads.com/book/show/89376.Heaven</td>\n",
       "      <td>https://images.gr-assets.com/books/1406508230m...</td>\n",
       "      <td>89376</td>\n",
       "      <td>7345</td>\n",
       "      <td>86257</td>\n",
       "      <td>Heaven</td>\n",
       "      <td>Heaven</td>\n",
       "      <td>{'non-fiction': 163}</td>\n",
       "    </tr>\n",
       "    <tr>\n",
       "      <th>2</th>\n",
       "      <td>0590417010</td>\n",
       "      <td>193</td>\n",
       "      <td>[]</td>\n",
       "      <td>US</td>\n",
       "      <td>eng</td>\n",
       "      <td>[{'count': '450', 'name': 'to-read'}, {'count'...</td>\n",
       "      <td></td>\n",
       "      <td>false</td>\n",
       "      <td>4.43</td>\n",
       "      <td>B017RORXNI</td>\n",
       "      <td>[834493, 452189, 140185, 1897316, 2189812, 424...</td>\n",
       "      <td>In Newbery Medalist Cynthia Rylant's classic b...</td>\n",
       "      <td>Hardcover</td>\n",
       "      <td>https://www.goodreads.com/book/show/89378.Dog_...</td>\n",
       "      <td>[Cynthia Rylant]</td>\n",
       "      <td>Blue Sky Press</td>\n",
       "      <td>40</td>\n",
       "      <td>1</td>\n",
       "      <td>9780590417013</td>\n",
       "      <td>9</td>\n",
       "      <td></td>\n",
       "      <td>1995</td>\n",
       "      <td>https://www.goodreads.com/book/show/89378.Dog_...</td>\n",
       "      <td>https://images.gr-assets.com/books/1360057676m...</td>\n",
       "      <td>89378</td>\n",
       "      <td>1331</td>\n",
       "      <td>86259</td>\n",
       "      <td>Dog Heaven</td>\n",
       "      <td>Dog Heaven</td>\n",
       "      <td>{'children': 109, 'fiction': 13, 'non-fiction'...</td>\n",
       "    </tr>\n",
       "    <tr>\n",
       "      <th>3</th>\n",
       "      <td></td>\n",
       "      <td>15</td>\n",
       "      <td>[]</td>\n",
       "      <td>US</td>\n",
       "      <td>eng</td>\n",
       "      <td>[{'count': '1492', 'name': 'to-read'}, {'count...</td>\n",
       "      <td>B013Q70BQG</td>\n",
       "      <td>true</td>\n",
       "      <td>3.98</td>\n",
       "      <td>B013Q70BQG</td>\n",
       "      <td>[386097, 7774253, 576667, 471907, 43174, 38977...</td>\n",
       "      <td>You've Got Mailmeets Julie &amp; Juliain the new f...</td>\n",
       "      <td></td>\n",
       "      <td>https://www.goodreads.com/book/show/27419760-w...</td>\n",
       "      <td>[Stacey Ballis]</td>\n",
       "      <td></td>\n",
       "      <td></td>\n",
       "      <td></td>\n",
       "      <td></td>\n",
       "      <td></td>\n",
       "      <td></td>\n",
       "      <td></td>\n",
       "      <td>https://www.goodreads.com/book/show/27419760-w...</td>\n",
       "      <td>https://images.gr-assets.com/books/1457306424m...</td>\n",
       "      <td>27419760</td>\n",
       "      <td>167</td>\n",
       "      <td>46003673</td>\n",
       "      <td>Wedding Girl</td>\n",
       "      <td>Wedding Girl</td>\n",
       "      <td>{'romance': 27, 'fiction': 22}</td>\n",
       "    </tr>\n",
       "    <tr>\n",
       "      <th>4</th>\n",
       "      <td></td>\n",
       "      <td>5</td>\n",
       "      <td>[246830, 362583, 362581, 623032]</td>\n",
       "      <td>US</td>\n",
       "      <td>eng</td>\n",
       "      <td>[{'count': '493', 'name': 'to-read'}, {'count'...</td>\n",
       "      <td></td>\n",
       "      <td>false</td>\n",
       "      <td>4.28</td>\n",
       "      <td></td>\n",
       "      <td>[13590139, 105963, 207585, 10503130, 4645370, ...</td>\n",
       "      <td>The questions plaguing Captain America's dream...</td>\n",
       "      <td>Hardcover</td>\n",
       "      <td>https://www.goodreads.com/book/show/13571772-c...</td>\n",
       "      <td>[Ed Brubaker]</td>\n",
       "      <td>Hachette Partworks Ltd.</td>\n",
       "      <td>146</td>\n",
       "      <td></td>\n",
       "      <td></td>\n",
       "      <td></td>\n",
       "      <td></td>\n",
       "      <td>2012</td>\n",
       "      <td>https://www.goodreads.com/book/show/13571772-c...</td>\n",
       "      <td>https://images.gr-assets.com/books/1333287305m...</td>\n",
       "      <td>13571772</td>\n",
       "      <td>51</td>\n",
       "      <td>102217</td>\n",
       "      <td>Captain America: Winter Soldier (The Ultimate ...</td>\n",
       "      <td>Captain America: Winter Soldier (The Ultimate ...</td>\n",
       "      <td>{'comics, graphic': 433, 'fiction': 19, 'fanta...</td>\n",
       "    </tr>\n",
       "  </tbody>\n",
       "</table>\n",
       "</div>"
      ],
      "text/plain": [
       "         isbn  ...                                             genres\n",
       "0              ...  {'fantasy, paranormal': 31, 'fiction': 8, 'mys...\n",
       "1  0842379428  ...                               {'non-fiction': 163}\n",
       "2  0590417010  ...  {'children': 109, 'fiction': 13, 'non-fiction'...\n",
       "3              ...                     {'romance': 27, 'fiction': 22}\n",
       "4              ...  {'comics, graphic': 433, 'fiction': 19, 'fanta...\n",
       "\n",
       "[5 rows x 30 columns]"
      ]
     },
     "execution_count": 133,
     "metadata": {
      "tags": []
     },
     "output_type": "execute_result"
    }
   ],
   "source": [
    "df_outer.head()"
   ]
  },
  {
   "cell_type": "code",
   "execution_count": 0,
   "metadata": {
    "colab": {},
    "colab_type": "code",
    "id": "o4vVqGTCKNmg"
   },
   "outputs": [],
   "source": [
    "!cp booksgenre.csv /content/drive/My\\ Drive"
   ]
  },
  {
   "cell_type": "code",
   "execution_count": 0,
   "metadata": {
    "colab": {},
    "colab_type": "code",
    "id": "pabLv_p7KaqW"
   },
   "outputs": [],
   "source": []
  }
 ],
 "metadata": {
  "colab": {
   "name": "Untitled15.ipynb",
   "provenance": []
  },
  "kernelspec": {
   "display_name": "Python 3",
   "language": "python",
   "name": "python3"
  },
  "language_info": {
   "codemirror_mode": {
    "name": "ipython",
    "version": 3
   },
   "file_extension": ".py",
   "mimetype": "text/x-python",
   "name": "python",
   "nbconvert_exporter": "python",
   "pygments_lexer": "ipython3",
   "version": "3.7.3"
  }
 },
 "nbformat": 4,
 "nbformat_minor": 1
}
